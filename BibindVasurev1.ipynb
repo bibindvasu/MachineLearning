{
 "cells": [
  {
   "cell_type": "code",
   "execution_count": 298,
   "metadata": {},
   "outputs": [],
   "source": [
    "%matplotlib inline\n",
    "import numpy as np\n",
    "import pandas as pd\n",
    "from scipy import stats\n",
    "import matplotlib.pyplot as plt\n",
    "import seaborn as sns\n",
    "from sklearn.model_selection import train_test_split\n",
    "# Importing Classifier Modules\n",
    "from sklearn.linear_model import LogisticRegression\n",
    "from sklearn.svm import SVC, LinearSVC\n",
    "from sklearn.neighbors import KNeighborsClassifier\n",
    "from sklearn.tree import DecisionTreeClassifier\n",
    "from sklearn.ensemble import RandomForestClassifier\n",
    "from sklearn.naive_bayes import GaussianNB\n",
    "from sklearn.linear_model import Perceptron\n",
    "from sklearn.linear_model import SGDClassifier\n",
    "from sklearn.ensemble import GradientBoostingClassifier"
   ]
  },
  {
   "cell_type": "code",
   "execution_count": 299,
   "metadata": {},
   "outputs": [],
   "source": [
    "import numpy as np\n",
    "import pandas as pd\n",
    "import matplotlib.pyplot as plt\n",
    "import seaborn as sns\n",
    "from sklearn.preprocessing import MinMaxScaler\n",
    "from sklearn.ensemble import ExtraTreesRegressor\n",
    "from sklearn.linear_model import LinearRegression, Lasso\n",
    "%matplotlib inline\n",
    "sns.set()"
   ]
  },
  {
   "cell_type": "markdown",
   "metadata": {},
   "source": [
    "## Exploratory Data Analysis"
   ]
  },
  {
   "cell_type": "code",
   "execution_count": 300,
   "metadata": {},
   "outputs": [
    {
     "name": "stderr",
     "output_type": "stream",
     "text": [
      "//anaconda3/lib/python3.7/site-packages/IPython/core/interactiveshell.py:3057: DtypeWarning: Columns (15) have mixed types. Specify dtype option on import or set low_memory=False.\n",
      "  interactivity=interactivity, compiler=compiler, result=result)\n"
     ]
    }
   ],
   "source": [
    "df = pd.read_csv('Data for Cleaning & Modeling.csv')  "
   ]
  },
  {
   "cell_type": "code",
   "execution_count": 301,
   "metadata": {},
   "outputs": [
    {
     "data": {
      "text/html": [
       "<div>\n",
       "<style scoped>\n",
       "    .dataframe tbody tr th:only-of-type {\n",
       "        vertical-align: middle;\n",
       "    }\n",
       "\n",
       "    .dataframe tbody tr th {\n",
       "        vertical-align: top;\n",
       "    }\n",
       "\n",
       "    .dataframe thead th {\n",
       "        text-align: right;\n",
       "    }\n",
       "</style>\n",
       "<table border=\"1\" class=\"dataframe\">\n",
       "  <thead>\n",
       "    <tr style=\"text-align: right;\">\n",
       "      <th></th>\n",
       "      <th>X1</th>\n",
       "      <th>X2</th>\n",
       "      <th>X3</th>\n",
       "      <th>X4</th>\n",
       "      <th>X5</th>\n",
       "      <th>X6</th>\n",
       "      <th>X7</th>\n",
       "      <th>X8</th>\n",
       "      <th>X9</th>\n",
       "      <th>X10</th>\n",
       "      <th>...</th>\n",
       "      <th>X23</th>\n",
       "      <th>X24</th>\n",
       "      <th>X25</th>\n",
       "      <th>X26</th>\n",
       "      <th>X27</th>\n",
       "      <th>X28</th>\n",
       "      <th>X29</th>\n",
       "      <th>X30</th>\n",
       "      <th>X31</th>\n",
       "      <th>X32</th>\n",
       "    </tr>\n",
       "  </thead>\n",
       "  <tbody>\n",
       "    <tr>\n",
       "      <th>0</th>\n",
       "      <td>11.89%</td>\n",
       "      <td>54734.0</td>\n",
       "      <td>80364.0</td>\n",
       "      <td>$25,000</td>\n",
       "      <td>$25,000</td>\n",
       "      <td>$19,080</td>\n",
       "      <td>36 months</td>\n",
       "      <td>B</td>\n",
       "      <td>B4</td>\n",
       "      <td>NaN</td>\n",
       "      <td>...</td>\n",
       "      <td>Feb-94</td>\n",
       "      <td>0.0</td>\n",
       "      <td>NaN</td>\n",
       "      <td>NaN</td>\n",
       "      <td>10.0</td>\n",
       "      <td>0.0</td>\n",
       "      <td>28854.0</td>\n",
       "      <td>52.10%</td>\n",
       "      <td>42.0</td>\n",
       "      <td>f</td>\n",
       "    </tr>\n",
       "    <tr>\n",
       "      <th>1</th>\n",
       "      <td>10.71%</td>\n",
       "      <td>55742.0</td>\n",
       "      <td>114426.0</td>\n",
       "      <td>$7,000</td>\n",
       "      <td>$7,000</td>\n",
       "      <td>$673</td>\n",
       "      <td>36 months</td>\n",
       "      <td>B</td>\n",
       "      <td>B5</td>\n",
       "      <td>CNN</td>\n",
       "      <td>...</td>\n",
       "      <td>Oct-00</td>\n",
       "      <td>0.0</td>\n",
       "      <td>NaN</td>\n",
       "      <td>NaN</td>\n",
       "      <td>7.0</td>\n",
       "      <td>0.0</td>\n",
       "      <td>33623.0</td>\n",
       "      <td>76.70%</td>\n",
       "      <td>7.0</td>\n",
       "      <td>f</td>\n",
       "    </tr>\n",
       "    <tr>\n",
       "      <th>2</th>\n",
       "      <td>16.99%</td>\n",
       "      <td>57167.0</td>\n",
       "      <td>137225.0</td>\n",
       "      <td>$25,000</td>\n",
       "      <td>$25,000</td>\n",
       "      <td>$24,725</td>\n",
       "      <td>36 months</td>\n",
       "      <td>D</td>\n",
       "      <td>D3</td>\n",
       "      <td>Web Programmer</td>\n",
       "      <td>...</td>\n",
       "      <td>Jun-00</td>\n",
       "      <td>0.0</td>\n",
       "      <td>41.0</td>\n",
       "      <td>NaN</td>\n",
       "      <td>10.0</td>\n",
       "      <td>0.0</td>\n",
       "      <td>19878.0</td>\n",
       "      <td>66.30%</td>\n",
       "      <td>17.0</td>\n",
       "      <td>f</td>\n",
       "    </tr>\n",
       "    <tr>\n",
       "      <th>3</th>\n",
       "      <td>13.11%</td>\n",
       "      <td>57245.0</td>\n",
       "      <td>138150.0</td>\n",
       "      <td>$1,200</td>\n",
       "      <td>$1,200</td>\n",
       "      <td>$1,200</td>\n",
       "      <td>36 months</td>\n",
       "      <td>C</td>\n",
       "      <td>C2</td>\n",
       "      <td>city of beaumont texas</td>\n",
       "      <td>...</td>\n",
       "      <td>Jan-85</td>\n",
       "      <td>0.0</td>\n",
       "      <td>64.0</td>\n",
       "      <td>NaN</td>\n",
       "      <td>5.0</td>\n",
       "      <td>0.0</td>\n",
       "      <td>2584.0</td>\n",
       "      <td>40.40%</td>\n",
       "      <td>31.0</td>\n",
       "      <td>f</td>\n",
       "    </tr>\n",
       "    <tr>\n",
       "      <th>4</th>\n",
       "      <td>13.57%</td>\n",
       "      <td>57416.0</td>\n",
       "      <td>139635.0</td>\n",
       "      <td>$10,800</td>\n",
       "      <td>$10,800</td>\n",
       "      <td>$10,692</td>\n",
       "      <td>36 months</td>\n",
       "      <td>C</td>\n",
       "      <td>C3</td>\n",
       "      <td>State Farm Insurance</td>\n",
       "      <td>...</td>\n",
       "      <td>Dec-96</td>\n",
       "      <td>1.0</td>\n",
       "      <td>58.0</td>\n",
       "      <td>NaN</td>\n",
       "      <td>14.0</td>\n",
       "      <td>0.0</td>\n",
       "      <td>3511.0</td>\n",
       "      <td>25.60%</td>\n",
       "      <td>40.0</td>\n",
       "      <td>f</td>\n",
       "    </tr>\n",
       "  </tbody>\n",
       "</table>\n",
       "<p>5 rows × 32 columns</p>\n",
       "</div>"
      ],
      "text/plain": [
       "       X1       X2        X3       X4       X5       X6          X7 X8  X9  \\\n",
       "0  11.89%  54734.0   80364.0  $25,000  $25,000  $19,080   36 months  B  B4   \n",
       "1  10.71%  55742.0  114426.0   $7,000   $7,000     $673   36 months  B  B5   \n",
       "2  16.99%  57167.0  137225.0  $25,000  $25,000  $24,725   36 months  D  D3   \n",
       "3  13.11%  57245.0  138150.0   $1,200   $1,200   $1,200   36 months  C  C2   \n",
       "4  13.57%  57416.0  139635.0  $10,800  $10,800  $10,692   36 months  C  C3   \n",
       "\n",
       "                      X10  ...     X23  X24   X25 X26   X27  X28      X29  \\\n",
       "0                     NaN  ...  Feb-94  0.0   NaN NaN  10.0  0.0  28854.0   \n",
       "1                     CNN  ...  Oct-00  0.0   NaN NaN   7.0  0.0  33623.0   \n",
       "2          Web Programmer  ...  Jun-00  0.0  41.0 NaN  10.0  0.0  19878.0   \n",
       "3  city of beaumont texas  ...  Jan-85  0.0  64.0 NaN   5.0  0.0   2584.0   \n",
       "4    State Farm Insurance  ...  Dec-96  1.0  58.0 NaN  14.0  0.0   3511.0   \n",
       "\n",
       "      X30   X31 X32  \n",
       "0  52.10%  42.0   f  \n",
       "1  76.70%   7.0   f  \n",
       "2  66.30%  17.0   f  \n",
       "3  40.40%  31.0   f  \n",
       "4  25.60%  40.0   f  \n",
       "\n",
       "[5 rows x 32 columns]"
      ]
     },
     "execution_count": 301,
     "metadata": {},
     "output_type": "execute_result"
    }
   ],
   "source": [
    "df.head()"
   ]
  },
  {
   "cell_type": "code",
   "execution_count": 302,
   "metadata": {},
   "outputs": [
    {
     "data": {
      "text/html": [
       "<div>\n",
       "<style scoped>\n",
       "    .dataframe tbody tr th:only-of-type {\n",
       "        vertical-align: middle;\n",
       "    }\n",
       "\n",
       "    .dataframe tbody tr th {\n",
       "        vertical-align: top;\n",
       "    }\n",
       "\n",
       "    .dataframe thead th {\n",
       "        text-align: right;\n",
       "    }\n",
       "</style>\n",
       "<table border=\"1\" class=\"dataframe\">\n",
       "  <thead>\n",
       "    <tr style=\"text-align: right;\">\n",
       "      <th></th>\n",
       "      <th>X2</th>\n",
       "      <th>X3</th>\n",
       "      <th>X13</th>\n",
       "      <th>X21</th>\n",
       "      <th>X22</th>\n",
       "      <th>X24</th>\n",
       "      <th>X25</th>\n",
       "      <th>X26</th>\n",
       "      <th>X27</th>\n",
       "      <th>X28</th>\n",
       "      <th>X29</th>\n",
       "      <th>X31</th>\n",
       "    </tr>\n",
       "  </thead>\n",
       "  <tbody>\n",
       "    <tr>\n",
       "      <th>count</th>\n",
       "      <td>3.999990e+05</td>\n",
       "      <td>3.999990e+05</td>\n",
       "      <td>3.389720e+05</td>\n",
       "      <td>399999.000000</td>\n",
       "      <td>399999.000000</td>\n",
       "      <td>399999.000000</td>\n",
       "      <td>181198.000000</td>\n",
       "      <td>51155.000000</td>\n",
       "      <td>399999.000000</td>\n",
       "      <td>399999.000000</td>\n",
       "      <td>3.999990e+05</td>\n",
       "      <td>399999.000000</td>\n",
       "    </tr>\n",
       "    <tr>\n",
       "      <th>mean</th>\n",
       "      <td>9.984493e+06</td>\n",
       "      <td>1.133899e+07</td>\n",
       "      <td>7.316015e+04</td>\n",
       "      <td>17.000786</td>\n",
       "      <td>0.274528</td>\n",
       "      <td>0.817155</td>\n",
       "      <td>34.312117</td>\n",
       "      <td>76.320399</td>\n",
       "      <td>11.117953</td>\n",
       "      <td>0.152285</td>\n",
       "      <td>1.595605e+04</td>\n",
       "      <td>24.983010</td>\n",
       "    </tr>\n",
       "    <tr>\n",
       "      <th>std</th>\n",
       "      <td>7.928778e+06</td>\n",
       "      <td>8.663918e+06</td>\n",
       "      <td>5.586770e+04</td>\n",
       "      <td>7.704189</td>\n",
       "      <td>0.778209</td>\n",
       "      <td>1.058746</td>\n",
       "      <td>21.787313</td>\n",
       "      <td>29.804509</td>\n",
       "      <td>4.898569</td>\n",
       "      <td>0.497389</td>\n",
       "      <td>1.952811e+04</td>\n",
       "      <td>11.473478</td>\n",
       "    </tr>\n",
       "    <tr>\n",
       "      <th>min</th>\n",
       "      <td>5.473400e+04</td>\n",
       "      <td>7.069900e+04</td>\n",
       "      <td>3.000000e+03</td>\n",
       "      <td>0.000000</td>\n",
       "      <td>0.000000</td>\n",
       "      <td>0.000000</td>\n",
       "      <td>0.000000</td>\n",
       "      <td>0.000000</td>\n",
       "      <td>0.000000</td>\n",
       "      <td>0.000000</td>\n",
       "      <td>0.000000e+00</td>\n",
       "      <td>2.000000</td>\n",
       "    </tr>\n",
       "    <tr>\n",
       "      <th>25%</th>\n",
       "      <td>3.151742e+06</td>\n",
       "      <td>3.727712e+06</td>\n",
       "      <td>4.500000e+04</td>\n",
       "      <td>11.250000</td>\n",
       "      <td>0.000000</td>\n",
       "      <td>0.000000</td>\n",
       "      <td>16.000000</td>\n",
       "      <td>54.000000</td>\n",
       "      <td>8.000000</td>\n",
       "      <td>0.000000</td>\n",
       "      <td>6.453000e+03</td>\n",
       "      <td>17.000000</td>\n",
       "    </tr>\n",
       "    <tr>\n",
       "      <th>50%</th>\n",
       "      <td>8.234778e+06</td>\n",
       "      <td>9.667699e+06</td>\n",
       "      <td>6.300000e+04</td>\n",
       "      <td>16.700000</td>\n",
       "      <td>0.000000</td>\n",
       "      <td>0.000000</td>\n",
       "      <td>31.000000</td>\n",
       "      <td>80.000000</td>\n",
       "      <td>10.000000</td>\n",
       "      <td>0.000000</td>\n",
       "      <td>1.177800e+04</td>\n",
       "      <td>23.000000</td>\n",
       "    </tr>\n",
       "    <tr>\n",
       "      <th>75%</th>\n",
       "      <td>1.532960e+07</td>\n",
       "      <td>1.731219e+07</td>\n",
       "      <td>8.820000e+04</td>\n",
       "      <td>22.520000</td>\n",
       "      <td>0.000000</td>\n",
       "      <td>1.000000</td>\n",
       "      <td>50.000000</td>\n",
       "      <td>103.000000</td>\n",
       "      <td>14.000000</td>\n",
       "      <td>0.000000</td>\n",
       "      <td>2.020900e+04</td>\n",
       "      <td>32.000000</td>\n",
       "    </tr>\n",
       "    <tr>\n",
       "      <th>max</th>\n",
       "      <td>2.875315e+07</td>\n",
       "      <td>3.127805e+07</td>\n",
       "      <td>7.500000e+06</td>\n",
       "      <td>39.990000</td>\n",
       "      <td>29.000000</td>\n",
       "      <td>8.000000</td>\n",
       "      <td>188.000000</td>\n",
       "      <td>129.000000</td>\n",
       "      <td>76.000000</td>\n",
       "      <td>63.000000</td>\n",
       "      <td>2.568995e+06</td>\n",
       "      <td>121.000000</td>\n",
       "    </tr>\n",
       "  </tbody>\n",
       "</table>\n",
       "</div>"
      ],
      "text/plain": [
       "                 X2            X3           X13            X21            X22  \\\n",
       "count  3.999990e+05  3.999990e+05  3.389720e+05  399999.000000  399999.000000   \n",
       "mean   9.984493e+06  1.133899e+07  7.316015e+04      17.000786       0.274528   \n",
       "std    7.928778e+06  8.663918e+06  5.586770e+04       7.704189       0.778209   \n",
       "min    5.473400e+04  7.069900e+04  3.000000e+03       0.000000       0.000000   \n",
       "25%    3.151742e+06  3.727712e+06  4.500000e+04      11.250000       0.000000   \n",
       "50%    8.234778e+06  9.667699e+06  6.300000e+04      16.700000       0.000000   \n",
       "75%    1.532960e+07  1.731219e+07  8.820000e+04      22.520000       0.000000   \n",
       "max    2.875315e+07  3.127805e+07  7.500000e+06      39.990000      29.000000   \n",
       "\n",
       "                 X24            X25           X26            X27  \\\n",
       "count  399999.000000  181198.000000  51155.000000  399999.000000   \n",
       "mean        0.817155      34.312117     76.320399      11.117953   \n",
       "std         1.058746      21.787313     29.804509       4.898569   \n",
       "min         0.000000       0.000000      0.000000       0.000000   \n",
       "25%         0.000000      16.000000     54.000000       8.000000   \n",
       "50%         0.000000      31.000000     80.000000      10.000000   \n",
       "75%         1.000000      50.000000    103.000000      14.000000   \n",
       "max         8.000000     188.000000    129.000000      76.000000   \n",
       "\n",
       "                 X28           X29            X31  \n",
       "count  399999.000000  3.999990e+05  399999.000000  \n",
       "mean        0.152285  1.595605e+04      24.983010  \n",
       "std         0.497389  1.952811e+04      11.473478  \n",
       "min         0.000000  0.000000e+00       2.000000  \n",
       "25%         0.000000  6.453000e+03      17.000000  \n",
       "50%         0.000000  1.177800e+04      23.000000  \n",
       "75%         0.000000  2.020900e+04      32.000000  \n",
       "max        63.000000  2.568995e+06     121.000000  "
      ]
     },
     "execution_count": 302,
     "metadata": {},
     "output_type": "execute_result"
    }
   ],
   "source": [
    "df.describe()"
   ]
  },
  {
   "cell_type": "code",
   "execution_count": 303,
   "metadata": {},
   "outputs": [
    {
     "name": "stdout",
     "output_type": "stream",
     "text": [
      "<class 'pandas.core.frame.DataFrame'>\n",
      "RangeIndex: 400000 entries, 0 to 399999\n",
      "Data columns (total 32 columns):\n",
      "X1     338990 non-null object\n",
      "X2     399999 non-null float64\n",
      "X3     399999 non-null float64\n",
      "X4     399999 non-null object\n",
      "X5     399999 non-null object\n",
      "X6     399999 non-null object\n",
      "X7     399999 non-null object\n",
      "X8     338730 non-null object\n",
      "X9     338730 non-null object\n",
      "X10    376014 non-null object\n",
      "X11    382462 non-null object\n",
      "X12    338639 non-null object\n",
      "X13    338972 non-null float64\n",
      "X14    399999 non-null object\n",
      "X15    399999 non-null object\n",
      "X16    123560 non-null object\n",
      "X17    399999 non-null object\n",
      "X18    399981 non-null object\n",
      "X19    399999 non-null object\n",
      "X20    399999 non-null object\n",
      "X21    399999 non-null float64\n",
      "X22    399999 non-null float64\n",
      "X23    399999 non-null object\n",
      "X24    399999 non-null float64\n",
      "X25    181198 non-null float64\n",
      "X26    51155 non-null float64\n",
      "X27    399999 non-null float64\n",
      "X28    399999 non-null float64\n",
      "X29    399999 non-null float64\n",
      "X30    399733 non-null object\n",
      "X31    399999 non-null float64\n",
      "X32    399999 non-null object\n",
      "dtypes: float64(12), object(20)\n",
      "memory usage: 97.7+ MB\n"
     ]
    }
   ],
   "source": [
    "df.info()"
   ]
  },
  {
   "cell_type": "code",
   "execution_count": 304,
   "metadata": {},
   "outputs": [
    {
     "data": {
      "text/plain": [
       "True"
      ]
     },
     "execution_count": 304,
     "metadata": {},
     "output_type": "execute_result"
    }
   ],
   "source": [
    "df.isnull().values.any()"
   ]
  },
  {
   "cell_type": "code",
   "execution_count": 305,
   "metadata": {},
   "outputs": [
    {
     "data": {
      "text/plain": [
       "1191856"
      ]
     },
     "execution_count": 305,
     "metadata": {},
     "output_type": "execute_result"
    }
   ],
   "source": [
    "df.isnull().values.sum()"
   ]
  },
  {
   "cell_type": "markdown",
   "metadata": {},
   "source": [
    "#### Cleaning and tidying the dataset"
   ]
  },
  {
   "cell_type": "code",
   "execution_count": 306,
   "metadata": {},
   "outputs": [],
   "source": [
    "df = df.applymap(str)"
   ]
  },
  {
   "cell_type": "code",
   "execution_count": 307,
   "metadata": {},
   "outputs": [],
   "source": [
    "bad_chars = [',','$','%','months']"
   ]
  },
  {
   "cell_type": "code",
   "execution_count": 308,
   "metadata": {},
   "outputs": [],
   "source": [
    "for col in df.columns:\n",
    "    for c in bad_chars:\n",
    "        df[col] = df[col].replace(c,\"\")"
   ]
  },
  {
   "cell_type": "code",
   "execution_count": 309,
   "metadata": {},
   "outputs": [],
   "source": [
    "for c in bad_chars: \n",
    "    for col in df:\n",
    "        df[col] = df[col].str.replace(c, \"\")"
   ]
  },
  {
   "cell_type": "code",
   "execution_count": 310,
   "metadata": {},
   "outputs": [
    {
     "data": {
      "text/html": [
       "<div>\n",
       "<style scoped>\n",
       "    .dataframe tbody tr th:only-of-type {\n",
       "        vertical-align: middle;\n",
       "    }\n",
       "\n",
       "    .dataframe tbody tr th {\n",
       "        vertical-align: top;\n",
       "    }\n",
       "\n",
       "    .dataframe thead th {\n",
       "        text-align: right;\n",
       "    }\n",
       "</style>\n",
       "<table border=\"1\" class=\"dataframe\">\n",
       "  <thead>\n",
       "    <tr style=\"text-align: right;\">\n",
       "      <th></th>\n",
       "      <th>X1</th>\n",
       "      <th>X2</th>\n",
       "      <th>X3</th>\n",
       "      <th>X4</th>\n",
       "      <th>X5</th>\n",
       "      <th>X6</th>\n",
       "      <th>X7</th>\n",
       "      <th>X8</th>\n",
       "      <th>X9</th>\n",
       "      <th>X10</th>\n",
       "      <th>...</th>\n",
       "      <th>X23</th>\n",
       "      <th>X24</th>\n",
       "      <th>X25</th>\n",
       "      <th>X26</th>\n",
       "      <th>X27</th>\n",
       "      <th>X28</th>\n",
       "      <th>X29</th>\n",
       "      <th>X30</th>\n",
       "      <th>X31</th>\n",
       "      <th>X32</th>\n",
       "    </tr>\n",
       "  </thead>\n",
       "  <tbody>\n",
       "    <tr>\n",
       "      <th>0</th>\n",
       "      <td>11.89</td>\n",
       "      <td>54734.0</td>\n",
       "      <td>80364.0</td>\n",
       "      <td>25000</td>\n",
       "      <td>25000</td>\n",
       "      <td>19080</td>\n",
       "      <td>36</td>\n",
       "      <td>B</td>\n",
       "      <td>B4</td>\n",
       "      <td>nan</td>\n",
       "      <td>...</td>\n",
       "      <td>Feb-94</td>\n",
       "      <td>0.0</td>\n",
       "      <td>nan</td>\n",
       "      <td>nan</td>\n",
       "      <td>10.0</td>\n",
       "      <td>0.0</td>\n",
       "      <td>28854.0</td>\n",
       "      <td>52.10</td>\n",
       "      <td>42.0</td>\n",
       "      <td>f</td>\n",
       "    </tr>\n",
       "    <tr>\n",
       "      <th>1</th>\n",
       "      <td>10.71</td>\n",
       "      <td>55742.0</td>\n",
       "      <td>114426.0</td>\n",
       "      <td>7000</td>\n",
       "      <td>7000</td>\n",
       "      <td>673</td>\n",
       "      <td>36</td>\n",
       "      <td>B</td>\n",
       "      <td>B5</td>\n",
       "      <td>CNN</td>\n",
       "      <td>...</td>\n",
       "      <td>Oct-00</td>\n",
       "      <td>0.0</td>\n",
       "      <td>nan</td>\n",
       "      <td>nan</td>\n",
       "      <td>7.0</td>\n",
       "      <td>0.0</td>\n",
       "      <td>33623.0</td>\n",
       "      <td>76.70</td>\n",
       "      <td>7.0</td>\n",
       "      <td>f</td>\n",
       "    </tr>\n",
       "    <tr>\n",
       "      <th>2</th>\n",
       "      <td>16.99</td>\n",
       "      <td>57167.0</td>\n",
       "      <td>137225.0</td>\n",
       "      <td>25000</td>\n",
       "      <td>25000</td>\n",
       "      <td>24725</td>\n",
       "      <td>36</td>\n",
       "      <td>D</td>\n",
       "      <td>D3</td>\n",
       "      <td>Web Programmer</td>\n",
       "      <td>...</td>\n",
       "      <td>Jun-00</td>\n",
       "      <td>0.0</td>\n",
       "      <td>41.0</td>\n",
       "      <td>nan</td>\n",
       "      <td>10.0</td>\n",
       "      <td>0.0</td>\n",
       "      <td>19878.0</td>\n",
       "      <td>66.30</td>\n",
       "      <td>17.0</td>\n",
       "      <td>f</td>\n",
       "    </tr>\n",
       "    <tr>\n",
       "      <th>3</th>\n",
       "      <td>13.11</td>\n",
       "      <td>57245.0</td>\n",
       "      <td>138150.0</td>\n",
       "      <td>1200</td>\n",
       "      <td>1200</td>\n",
       "      <td>1200</td>\n",
       "      <td>36</td>\n",
       "      <td>C</td>\n",
       "      <td>C2</td>\n",
       "      <td>city of beaumont texas</td>\n",
       "      <td>...</td>\n",
       "      <td>Jan-85</td>\n",
       "      <td>0.0</td>\n",
       "      <td>64.0</td>\n",
       "      <td>nan</td>\n",
       "      <td>5.0</td>\n",
       "      <td>0.0</td>\n",
       "      <td>2584.0</td>\n",
       "      <td>40.40</td>\n",
       "      <td>31.0</td>\n",
       "      <td>f</td>\n",
       "    </tr>\n",
       "    <tr>\n",
       "      <th>4</th>\n",
       "      <td>13.57</td>\n",
       "      <td>57416.0</td>\n",
       "      <td>139635.0</td>\n",
       "      <td>10800</td>\n",
       "      <td>10800</td>\n",
       "      <td>10692</td>\n",
       "      <td>36</td>\n",
       "      <td>C</td>\n",
       "      <td>C3</td>\n",
       "      <td>State Farm Insurance</td>\n",
       "      <td>...</td>\n",
       "      <td>Dec-96</td>\n",
       "      <td>1.0</td>\n",
       "      <td>58.0</td>\n",
       "      <td>nan</td>\n",
       "      <td>14.0</td>\n",
       "      <td>0.0</td>\n",
       "      <td>3511.0</td>\n",
       "      <td>25.60</td>\n",
       "      <td>40.0</td>\n",
       "      <td>f</td>\n",
       "    </tr>\n",
       "  </tbody>\n",
       "</table>\n",
       "<p>5 rows × 32 columns</p>\n",
       "</div>"
      ],
      "text/plain": [
       "      X1       X2        X3     X4     X5     X6    X7 X8  X9  \\\n",
       "0  11.89  54734.0   80364.0  25000  25000  19080   36   B  B4   \n",
       "1  10.71  55742.0  114426.0   7000   7000    673   36   B  B5   \n",
       "2  16.99  57167.0  137225.0  25000  25000  24725   36   D  D3   \n",
       "3  13.11  57245.0  138150.0   1200   1200   1200   36   C  C2   \n",
       "4  13.57  57416.0  139635.0  10800  10800  10692   36   C  C3   \n",
       "\n",
       "                      X10  ...     X23  X24   X25  X26   X27  X28      X29  \\\n",
       "0                     nan  ...  Feb-94  0.0   nan  nan  10.0  0.0  28854.0   \n",
       "1                     CNN  ...  Oct-00  0.0   nan  nan   7.0  0.0  33623.0   \n",
       "2          Web Programmer  ...  Jun-00  0.0  41.0  nan  10.0  0.0  19878.0   \n",
       "3  city of beaumont texas  ...  Jan-85  0.0  64.0  nan   5.0  0.0   2584.0   \n",
       "4    State Farm Insurance  ...  Dec-96  1.0  58.0  nan  14.0  0.0   3511.0   \n",
       "\n",
       "     X30   X31 X32  \n",
       "0  52.10  42.0   f  \n",
       "1  76.70   7.0   f  \n",
       "2  66.30  17.0   f  \n",
       "3  40.40  31.0   f  \n",
       "4  25.60  40.0   f  \n",
       "\n",
       "[5 rows x 32 columns]"
      ]
     },
     "execution_count": 310,
     "metadata": {},
     "output_type": "execute_result"
    }
   ],
   "source": [
    "df.head()"
   ]
  },
  {
   "cell_type": "code",
   "execution_count": 311,
   "metadata": {},
   "outputs": [
    {
     "name": "stdout",
     "output_type": "stream",
     "text": [
      "Index(['X1', 'X2', 'X3', 'X4', 'X5', 'X6', 'X7', 'X8', 'X9', 'X10', 'X11',\n",
      "       'X12', 'X13', 'X14', 'X15', 'X16', 'X17', 'X18', 'X19', 'X20', 'X21',\n",
      "       'X22', 'X23', 'X24', 'X25', 'X26', 'X27', 'X28', 'X29', 'X30', 'X31',\n",
      "       'X32'],\n",
      "      dtype='object')\n",
      "X1 is unique: False\n",
      "X2 is unique: True\n",
      "X3 is unique: True\n",
      "X4 is unique: False\n",
      "X5 is unique: False\n",
      "X6 is unique: False\n",
      "X7 is unique: False\n",
      "X8 is unique: False\n",
      "X9 is unique: False\n",
      "X10 is unique: False\n",
      "X11 is unique: False\n",
      "X12 is unique: False\n",
      "X13 is unique: False\n",
      "X14 is unique: False\n",
      "X15 is unique: False\n",
      "X16 is unique: False\n",
      "X17 is unique: False\n",
      "X18 is unique: False\n",
      "X19 is unique: False\n",
      "X20 is unique: False\n",
      "X21 is unique: False\n",
      "X22 is unique: False\n",
      "X23 is unique: False\n",
      "X24 is unique: False\n",
      "X25 is unique: False\n",
      "X26 is unique: False\n",
      "X27 is unique: False\n",
      "X28 is unique: False\n",
      "X29 is unique: False\n",
      "X30 is unique: False\n",
      "X31 is unique: False\n",
      "X32 is unique: False\n"
     ]
    }
   ],
   "source": [
    "# Get column names\n",
    "column_names = df.columns\n",
    "print(column_names)\n",
    "# Get column data types\n",
    "df.dtypes\n",
    "# Also check if the column is unique\n",
    "for i in column_names:\n",
    "  print('{} is unique: {}'.format(i, df[i].is_unique))"
   ]
  },
  {
   "cell_type": "markdown",
   "metadata": {},
   "source": [
    "### Explore the variables to see if they can be removed from analysis"
   ]
  },
  {
   "cell_type": "code",
   "execution_count": 312,
   "metadata": {},
   "outputs": [
    {
     "data": {
      "text/plain": [
       "0    Due to a lack of personal finance education and exposure to poor financing skills growing up I w...\n",
       "1                                Just want to pay off the last bit of credit card debt at a better rate.\n",
       "2     Trying to pay a friend back for apartment broker's fee incurred from as well as credit card stuff.\n",
       "3    If funded I would use this loan consolidate two loans with interest rates of 15 and 16 percent r...\n",
       "4    I currently have a personal loan with Citifinancial that I have a high interest rate on I need 7...\n",
       "Name: X16, dtype: object"
      ]
     },
     "execution_count": 312,
     "metadata": {},
     "output_type": "execute_result"
    }
   ],
   "source": [
    "df.X16.head()"
   ]
  },
  {
   "cell_type": "code",
   "execution_count": 313,
   "metadata": {},
   "outputs": [
    {
     "data": {
      "text/plain": [
       "0    debt_consolidation\n",
       "1           credit_card\n",
       "2    debt_consolidation\n",
       "3    debt_consolidation\n",
       "4    debt_consolidation\n",
       "Name: X17, dtype: object"
      ]
     },
     "execution_count": 313,
     "metadata": {},
     "output_type": "execute_result"
    }
   ],
   "source": [
    "df.X17.head()"
   ]
  },
  {
   "cell_type": "code",
   "execution_count": 314,
   "metadata": {},
   "outputs": [
    {
     "data": {
      "text/plain": [
       "0    CA\n",
       "1    NY\n",
       "2    NY\n",
       "3    TX\n",
       "4    CT\n",
       "Name: X20, dtype: object"
      ]
     },
     "execution_count": 314,
     "metadata": {},
     "output_type": "execute_result"
    }
   ],
   "source": [
    "df.X20.head()"
   ]
  },
  {
   "cell_type": "code",
   "execution_count": 315,
   "metadata": {},
   "outputs": [
    {
     "data": {
      "text/plain": [
       "0    19.48\n",
       "1    14.29\n",
       "2     10.5\n",
       "3     5.47\n",
       "4    11.63\n",
       "Name: X21, dtype: object"
      ]
     },
     "execution_count": 315,
     "metadata": {},
     "output_type": "execute_result"
    }
   ],
   "source": [
    "df.X21.head()"
   ]
  },
  {
   "cell_type": "code",
   "execution_count": 316,
   "metadata": {},
   "outputs": [
    {
     "data": {
      "text/plain": [
       "0    0.0\n",
       "1    0.0\n",
       "2    0.0\n",
       "3    0.0\n",
       "4    0.0\n",
       "Name: X28, dtype: object"
      ]
     },
     "execution_count": 316,
     "metadata": {},
     "output_type": "execute_result"
    }
   ],
   "source": [
    "df.X28.head()"
   ]
  },
  {
   "cell_type": "code",
   "execution_count": 317,
   "metadata": {},
   "outputs": [
    {
     "data": {
      "text/plain": [
       "0    CA\n",
       "1    NY\n",
       "2    NY\n",
       "3    TX\n",
       "4    CT\n",
       "Name: X20, dtype: object"
      ]
     },
     "execution_count": 317,
     "metadata": {},
     "output_type": "execute_result"
    }
   ],
   "source": [
    "df.X20.head()"
   ]
  },
  {
   "cell_type": "markdown",
   "metadata": {},
   "source": [
    "### Dropping Features which are not of interest after EDA"
   ]
  },
  {
   "cell_type": "code",
   "execution_count": 318,
   "metadata": {},
   "outputs": [],
   "source": [
    "df.drop(['X2', 'X3', 'X4','X10', 'X11',\n",
    "       'X12','X14','X15', 'X16', 'X17', 'X18', 'X19','X23','X27', 'X25','X26','X20','X28', 'X29', 'X30', 'X31',\n",
    "       'X32'],axis =1, inplace = True)"
   ]
  },
  {
   "cell_type": "code",
   "execution_count": 319,
   "metadata": {},
   "outputs": [
    {
     "data": {
      "text/plain": [
       "Index(['X1', 'X5', 'X6', 'X7', 'X8', 'X9', 'X13', 'X21', 'X22', 'X24'], dtype='object')"
      ]
     },
     "execution_count": 319,
     "metadata": {},
     "output_type": "execute_result"
    }
   ],
   "source": [
    "df.columns"
   ]
  },
  {
   "cell_type": "code",
   "execution_count": 322,
   "metadata": {},
   "outputs": [],
   "source": [
    "# CHANGING THE TYPE OF VARIABLES\n",
    "df.X1 = df.X1.astype(float)\n",
    "df.X5 = df.X5.astype(float)\n",
    "df.X6 = df.X6.astype(float)\n",
    "df.X13 = df.X13.astype(float)\n",
    "df.X21 = df.X21.astype(float)"
   ]
  },
  {
   "cell_type": "code",
   "execution_count": 323,
   "metadata": {},
   "outputs": [
    {
     "name": "stdout",
     "output_type": "stream",
     "text": [
      "<class 'pandas.core.frame.DataFrame'>\n",
      "RangeIndex: 400000 entries, 0 to 399999\n",
      "Data columns (total 10 columns):\n",
      "X1     338990 non-null float64\n",
      "X5     399999 non-null float64\n",
      "X6     399999 non-null float64\n",
      "X7     400000 non-null object\n",
      "X8     400000 non-null object\n",
      "X9     400000 non-null object\n",
      "X13    338972 non-null float64\n",
      "X21    399999 non-null float64\n",
      "X22    400000 non-null object\n",
      "X24    400000 non-null object\n",
      "dtypes: float64(5), object(5)\n",
      "memory usage: 30.5+ MB\n"
     ]
    }
   ],
   "source": [
    "df.info()"
   ]
  },
  {
   "cell_type": "code",
   "execution_count": 324,
   "metadata": {},
   "outputs": [],
   "source": [
    "# MORE CLEANING OF X7\n",
    "df['X7']=df['X7'].fillna('36')"
   ]
  },
  {
   "cell_type": "code",
   "execution_count": 327,
   "metadata": {},
   "outputs": [
    {
     "data": {
      "text/plain": [
       "B      101668\n",
       "C       90071\n",
       "nan     61270\n",
       "D       55621\n",
       "A       53707\n",
       "E       25518\n",
       "F        9784\n",
       "G        2361\n",
       "Name: X8, dtype: int64"
      ]
     },
     "execution_count": 327,
     "metadata": {},
     "output_type": "execute_result"
    }
   ],
   "source": [
    "# EXPLORING FEATURES AGAIN\n",
    "df.X8.value_counts()"
   ]
  },
  {
   "cell_type": "code",
   "execution_count": 328,
   "metadata": {},
   "outputs": [
    {
     "data": {
      "text/plain": [
       "0.0    203168\n",
       "1.0    112483\n",
       "2.0     51962\n",
       "3.0     23234\n",
       "4.0      6047\n",
       "5.0      2158\n",
       "6.0       877\n",
       "7.0        48\n",
       "8.0        22\n",
       "nan         1\n",
       "Name: X24, dtype: int64"
      ]
     },
     "execution_count": 328,
     "metadata": {},
     "output_type": "execute_result"
    }
   ],
   "source": [
    "df.X24.value_counts()"
   ]
  },
  {
   "cell_type": "code",
   "execution_count": 329,
   "metadata": {},
   "outputs": [
    {
     "data": {
      "text/plain": [
       "0.0     330533\n",
       "1.0      47138\n",
       "2.0      13561\n",
       "3.0       4675\n",
       "4.0       1922\n",
       "5.0        994\n",
       "6.0        516\n",
       "7.0        274\n",
       "8.0        140\n",
       "9.0         84\n",
       "10.0        55\n",
       "11.0        32\n",
       "12.0        28\n",
       "13.0        16\n",
       "14.0         6\n",
       "18.0         6\n",
       "16.0         5\n",
       "15.0         5\n",
       "17.0         3\n",
       "19.0         2\n",
       "21.0         1\n",
       "29.0         1\n",
       "24.0         1\n",
       "22.0         1\n",
       "nan          1\n",
       "Name: X22, dtype: int64"
      ]
     },
     "execution_count": 329,
     "metadata": {},
     "output_type": "execute_result"
    }
   ],
   "source": [
    "df.X22.value_counts()"
   ]
  },
  {
   "cell_type": "code",
   "execution_count": 330,
   "metadata": {},
   "outputs": [
    {
     "data": {
      "text/plain": [
       "nan    61270\n",
       "B3     24009\n",
       "B4     22611\n",
       "B2     19853\n",
       "C1     19285\n",
       "C2     19182\n",
       "B5     18301\n",
       "C3     18244\n",
       "C4     17225\n",
       "B1     16894\n",
       "C5     16135\n",
       "A5     15485\n",
       "D1     13840\n",
       "A4     13837\n",
       "D2     12479\n",
       "D3     10818\n",
       "D4     10131\n",
       "A3      9031\n",
       "D5      8353\n",
       "A2      7678\n",
       "A1      7676\n",
       "E1      6408\n",
       "E2      6181\n",
       "E3      4978\n",
       "E4      4291\n",
       "E5      3660\n",
       "F1      2878\n",
       "F2      2202\n",
       "F3      2022\n",
       "F4      1537\n",
       "F5      1145\n",
       "G1       790\n",
       "G2       598\n",
       "G3       428\n",
       "G4       300\n",
       "G5       245\n",
       "Name: X9, dtype: int64"
      ]
     },
     "execution_count": 330,
     "metadata": {},
     "output_type": "execute_result"
    }
   ],
   "source": [
    "df.X9.value_counts()"
   ]
  },
  {
   "cell_type": "markdown",
   "metadata": {},
   "source": [
    "### WE NOTE THAT 61010 observations are missing on the outcome feature. I decided to remove the observations. Interpolation and imputation was thought of. However I decided to remove to reduce the bias induced because of interpolation or imputation of mean/median"
   ]
  },
  {
   "cell_type": "code",
   "execution_count": 338,
   "metadata": {},
   "outputs": [
    {
     "data": {
      "text/plain": [
       "X1     61010\n",
       "X5         1\n",
       "X6         1\n",
       "X7         0\n",
       "X8         0\n",
       "X9         0\n",
       "X13    61028\n",
       "X21        1\n",
       "X22        0\n",
       "X24        0\n",
       "dtype: int64"
      ]
     },
     "execution_count": 338,
     "metadata": {},
     "output_type": "execute_result"
    }
   ],
   "source": [
    "df.isnull().sum()"
   ]
  },
  {
   "cell_type": "code",
   "execution_count": 339,
   "metadata": {},
   "outputs": [
    {
     "data": {
      "text/plain": [
       "10000.0    28324\n",
       "12000.0    21829\n",
       "15000.0    19792\n",
       "20000.0    18994\n",
       "35000.0    13711\n",
       "8000.0     12732\n",
       "6000.0     11955\n",
       "5000.0     11579\n",
       "16000.0    10369\n",
       "18000.0    10042\n",
       "25000.0     9286\n",
       "24000.0     8411\n",
       "30000.0     6954\n",
       "7000.0      6568\n",
       "14000.0     6017\n",
       "28000.0     5473\n",
       "9000.0      5370\n",
       "4000.0      5243\n",
       "21000.0     5086\n",
       "3000.0      4577\n",
       "13000.0     3573\n",
       "11000.0     3285\n",
       "9600.0      3170\n",
       "7200.0      3116\n",
       "17000.0     2678\n",
       "7500.0      2505\n",
       "22000.0     2487\n",
       "2000.0      2375\n",
       "14400.0     2357\n",
       "4800.0      2017\n",
       "6500.0      1870\n",
       "8400.0      1809\n",
       "5500.0      1729\n",
       "8500.0      1697\n",
       "3500.0      1640\n",
       "11500.0     1557\n",
       "11200.0     1542\n",
       "2500.0      1538\n",
       "3600.0      1468\n",
       "5600.0      1461\n",
       "10500.0     1411\n",
       "6400.0      1384\n",
       "4500.0      1333\n",
       "19000.0     1326\n",
       "19200.0     1300\n",
       "1000.0      1193\n",
       "10800.0     1167\n",
       "17500.0     1107\n",
       "2400.0      1092\n",
       "16800.0     1084\n",
       "4200.0      1052\n",
       "23000.0     1031\n",
       "12500.0     1008\n",
       "32000.0      987\n",
       "1500.0       961\n",
       "9500.0       957\n",
       "12800.0      923\n",
       "8875.0       885\n",
       "13200.0      818\n",
       "10400.0      810\n",
       "26000.0      794\n",
       "13500.0      786\n",
       "9750.0       766\n",
       "3200.0       738\n",
       "7800.0       725\n",
       "10625.0      721\n",
       "27000.0      715\n",
       "6250.0       644\n",
       "16500.0      643\n",
       "1200.0       636\n",
       "21600.0      634\n",
       "8325.0       624\n",
       "15600.0      612\n",
       "17600.0      594\n",
       "10200.0      589\n",
       "19500.0      585\n",
       "2800.0       582\n",
       "9450.0       580\n",
       "5400.0       579\n",
       "14500.0      579\n",
       "5375.0       550\n",
       "33000.0      545\n",
       "19750.0      537\n",
       "8800.0       531\n",
       "7750.0       514\n",
       "6600.0       502\n",
       "11700.0      498\n",
       "11100.0      498\n",
       "12600.0      496\n",
       "17625.0      464\n",
       "6075.0       458\n",
       "13600.0      452\n",
       "1800.0       447\n",
       "9800.0       442\n",
       "9250.0       441\n",
       "12250.0      441\n",
       "26500.0      440\n",
       "5200.0       439\n",
       "12375.0      431\n",
       "10750.0      430\n",
       "15500.0      429\n",
       "22750.0      428\n",
       "18825.0      419\n",
       "16750.0      411\n",
       "6625.0       411\n",
       "22400.0      411\n",
       "18225.0      409\n",
       "15250.0      407\n",
       "1600.0       399\n",
       "4750.0       398\n",
       "20500.0      397\n",
       "24250.0      391\n",
       "22500.0      387\n",
       "14125.0      386\n",
       "13250.0      384\n",
       "7125.0       381\n",
       "21200.0      373\n",
       "18500.0      373\n",
       "6800.0       371\n",
       "20400.0      371\n",
       "19600.0      371\n",
       "22250.0      368\n",
       "17050.0      359\n",
       "3250.0       351\n",
       "22800.0      347\n",
       "23500.0      346\n",
       "24500.0      338\n",
       "14300.0      334\n",
       "15850.0      329\n",
       "18250.0      327\n",
       "9100.0       326\n",
       "12175.0      325\n",
       "29700.0      324\n",
       "27575.0      318\n",
       "18200.0      315\n",
       "26375.0      314\n",
       "4950.0       309\n",
       "20050.0      307\n",
       "19800.0      307\n",
       "11400.0      307\n",
       "4375.0       306\n",
       "21850.0      302\n",
       "24925.0      301\n",
       "16425.0      298\n",
       "23850.0      296\n",
       "10050.0      295\n",
       "13750.0      293\n",
       "29175.0      293\n",
       "20125.0      291\n",
       "6300.0       289\n",
       "24375.0      289\n",
       "21250.0      285\n",
       "20950.0      283\n",
       "16950.0      280\n",
       "9950.0       278\n",
       "16200.0      277\n",
       "16450.0      276\n",
       "11325.0      271\n",
       "29000.0      271\n",
       "20800.0      266\n",
       "31300.0      264\n",
       "2100.0       264\n",
       "9200.0       263\n",
       "14675.0      262\n",
       "17475.0      261\n",
       "20675.0      259\n",
       "18550.0      258\n",
       "15875.0      257\n",
       "27500.0      257\n",
       "24575.0      257\n",
       "19075.0      256\n",
       "12300.0      255\n",
       "2200.0       255\n",
       "1400.0       253\n",
       "34000.0      253\n",
       "13475.0      251\n",
       "5800.0       249\n",
       "10575.0      246\n",
       "9325.0       246\n",
       "33425.0      245\n",
       "11625.0      245\n",
       "7700.0       243\n",
       "7550.0       242\n",
       "6200.0       241\n",
       "14825.0      240\n",
       "6700.0       240\n",
       "4400.0       238\n",
       "23325.0      235\n",
       "19125.0      234\n",
       "2700.0       230\n",
       "31500.0      228\n",
       "15350.0      228\n",
       "25200.0      228\n",
       "10375.0      226\n",
       "8450.0       224\n",
       "32350.0      219\n",
       "5300.0       217\n",
       "19425.0      217\n",
       "8200.0       217\n",
       "21725.0      217\n",
       "14600.0      216\n",
       "8125.0       215\n",
       "25975.0      215\n",
       "26400.0      215\n",
       "14700.0      214\n",
       "8975.0       212\n",
       "8725.0       212\n",
       "5750.0       211\n",
       "8575.0       211\n",
       "29100.0      209\n",
       "17325.0      208\n",
       "28500.0      207\n",
       "5700.0       206\n",
       "2600.0       202\n",
       "23675.0      201\n",
       "10075.0      201\n",
       "3900.0       199\n",
       "13800.0      198\n",
       "3300.0       197\n",
       "3825.0       197\n",
       "18400.0      196\n",
       "25600.0      195\n",
       "11300.0      195\n",
       "14075.0      194\n",
       "25450.0      193\n",
       "15200.0      192\n",
       "15400.0      192\n",
       "7600.0       192\n",
       "31000.0      190\n",
       "9925.0       189\n",
       "6350.0       188\n",
       "9900.0       187\n",
       "25475.0      186\n",
       "5950.0       186\n",
       "28100.0      185\n",
       "30750.0      184\n",
       "11850.0      183\n",
       "8600.0       183\n",
       "14375.0      183\n",
       "12700.0      181\n",
       "27300.0      180\n",
       "18900.0      178\n",
       "30225.0      177\n",
       "10975.0      177\n",
       "11875.0      176\n",
       "5100.0       176\n",
       "2300.0       175\n",
       "7350.0       175\n",
       "28625.0      172\n",
       "3625.0       171\n",
       "34475.0      170\n",
       "18450.0      169\n",
       "19400.0      167\n",
       "14800.0      167\n",
       "8750.0       166\n",
       "5875.0       164\n",
       "11975.0      164\n",
       "6850.0       163\n",
       "3800.0       163\n",
       "9975.0       163\n",
       "13700.0      163\n",
       "7400.0       162\n",
       "27200.0      161\n",
       "7100.0       161\n",
       "8250.0       160\n",
       "7925.0       160\n",
       "4600.0       158\n",
       "10600.0      157\n",
       "33950.0      156\n",
       "9175.0       154\n",
       "10850.0      154\n",
       "31825.0      153\n",
       "10300.0      153\n",
       "12875.0      152\n",
       "7375.0       152\n",
       "32500.0      151\n",
       "4900.0       150\n",
       "27050.0      150\n",
       "7300.0       150\n",
       "8700.0       149\n",
       "19950.0      147\n",
       "14100.0      147\n",
       "2750.0       147\n",
       "13150.0      145\n",
       "6950.0       145\n",
       "13225.0      145\n",
       "7900.0       144\n",
       "8950.0       144\n",
       "12400.0      142\n",
       "33600.0      142\n",
       "4300.0       141\n",
       "4450.0       140\n",
       "14575.0      140\n",
       "16100.0      140\n",
       "17975.0      140\n",
       "5825.0       139\n",
       "5125.0       139\n",
       "14975.0      139\n",
       "32875.0      138\n",
       "6900.0       138\n",
       "7475.0       138\n",
       "11250.0      138\n",
       "14900.0      138\n",
       "22950.0      137\n",
       "5250.0       135\n",
       "9875.0       135\n",
       "15050.0      133\n",
       "2875.0       132\n",
       "16150.0      132\n",
       "13375.0      131\n",
       "11600.0      130\n",
       "28800.0      129\n",
       "9550.0       129\n",
       "7875.0       128\n",
       "9700.0       128\n",
       "21500.0      128\n",
       "4250.0       128\n",
       "9125.0       128\n",
       "8050.0       127\n",
       "9300.0       127\n",
       "28200.0      126\n",
       "4125.0       126\n",
       "12950.0      125\n",
       "3750.0       125\n",
       "24800.0      123\n",
       "3700.0       123\n",
       "12075.0      122\n",
       "11950.0      122\n",
       "6100.0       121\n",
       "13300.0      121\n",
       "8100.0       120\n",
       "18800.0      119\n",
       "14350.0      119\n",
       "12575.0      118\n",
       "8300.0       118\n",
       "14750.0      117\n",
       "15750.0      117\n",
       "6650.0       116\n",
       "17875.0      115\n",
       "18075.0      115\n",
       "9850.0       114\n",
       "7250.0       114\n",
       "17100.0      113\n",
       "23200.0      111\n",
       "3975.0       109\n",
       "15075.0      109\n",
       "12200.0      109\n",
       "21100.0      108\n",
       "11800.0      108\n",
       "13650.0      108\n",
       "18600.0      108\n",
       "16300.0      107\n",
       "11750.0      107\n",
       "5550.0       107\n",
       "8475.0       106\n",
       "3400.0       106\n",
       "6325.0       106\n",
       "15800.0      105\n",
       "12725.0      105\n",
       "11900.0      105\n",
       "9350.0       103\n",
       "12100.0      103\n",
       "28775.0      103\n",
       "10725.0      102\n",
       "6050.0       102\n",
       "5325.0       102\n",
       "21350.0      101\n",
       "18700.0      101\n",
       "8225.0       100\n",
       "20375.0      100\n",
       "15550.0      100\n",
       "17400.0       99\n",
       "4725.0        99\n",
       "7575.0        99\n",
       "16700.0       99\n",
       "20700.0       99\n",
       "3125.0        98\n",
       "13400.0       98\n",
       "8900.0        97\n",
       "10100.0       97\n",
       "11075.0       96\n",
       "23350.0       95\n",
       "5075.0        95\n",
       "15900.0       95\n",
       "6450.0        95\n",
       "13100.0       95\n",
       "10450.0       95\n",
       "6150.0        94\n",
       "23800.0       94\n",
       "19575.0       94\n",
       "29975.0       94\n",
       "11175.0       93\n",
       "17200.0       93\n",
       "7975.0        93\n",
       "16400.0       91\n",
       "21075.0       91\n",
       "17550.0       90\n",
       "6725.0        90\n",
       "13925.0       90\n",
       "17425.0       90\n",
       "8650.0        89\n",
       "5050.0        89\n",
       "18775.0       89\n",
       "11575.0       89\n",
       "10325.0       89\n",
       "24125.0       88\n",
       "10475.0       88\n",
       "10550.0       88\n",
       "19725.0       88\n",
       "16900.0       87\n",
       "16550.0       87\n",
       "5175.0        87\n",
       "23400.0       87\n",
       "5150.0        86\n",
       "4700.0        86\n",
       "17800.0       86\n",
       "5975.0        86\n",
       "4100.0        86\n",
       "18350.0       86\n",
       "15100.0       86\n",
       "13900.0       86\n",
       "6475.0        85\n",
       "7025.0        85\n",
       "33575.0       85\n",
       "3850.0        85\n",
       "29325.0       85\n",
       "6375.0        84\n",
       "6825.0        84\n",
       "18725.0       84\n",
       "15625.0       84\n",
       "9400.0        84\n",
       "6925.0        84\n",
       "12450.0       84\n",
       "10525.0       84\n",
       "12825.0       83\n",
       "10950.0       83\n",
       "6225.0        83\n",
       "12750.0       83\n",
       "24175.0       82\n",
       "10875.0       82\n",
       "19350.0       82\n",
       "23275.0       82\n",
       "15125.0       81\n",
       "5900.0        81\n",
       "12050.0       81\n",
       "7625.0        81\n",
       "18950.0       81\n",
       "16825.0       81\n",
       "5850.0        81\n",
       "23750.0       80\n",
       "2650.0        80\n",
       "2250.0        80\n",
       "10225.0       80\n",
       "19700.0       79\n",
       "10150.0       79\n",
       "29850.0       79\n",
       "24600.0       78\n",
       "1750.0        78\n",
       "14250.0       78\n",
       "10425.0       78\n",
       "5675.0        78\n",
       "15825.0       78\n",
       "5275.0        78\n",
       "3350.0        78\n",
       "14950.0       77\n",
       "10700.0       77\n",
       "15300.0       77\n",
       "22100.0       77\n",
       "27600.0       77\n",
       "18150.0       77\n",
       "19300.0       77\n",
       "4575.0        77\n",
       "1450.0        77\n",
       "7950.0        76\n",
       "6575.0        76\n",
       "4875.0        76\n",
       "3100.0        75\n",
       "11150.0       75\n",
       "12550.0       75\n",
       "16375.0       74\n",
       "7675.0        74\n",
       "19375.0       74\n",
       "7450.0        74\n",
       "20225.0       74\n",
       "9525.0        74\n",
       "9050.0        74\n",
       "14025.0       74\n",
       "13625.0       74\n",
       "16225.0       74\n",
       "6750.0        73\n",
       "12150.0       73\n",
       "11125.0       73\n",
       "10775.0       73\n",
       "24625.0       72\n",
       "9650.0        72\n",
       "11050.0       72\n",
       "4675.0        72\n",
       "8675.0        72\n",
       "20150.0       72\n",
       "           ...  \n",
       "8825.0        31\n",
       "21475.0       31\n",
       "32625.0       31\n",
       "16875.0       31\n",
       "27725.0       31\n",
       "21175.0       31\n",
       "16125.0       31\n",
       "3275.0        31\n",
       "32225.0       31\n",
       "16075.0       31\n",
       "10675.0       31\n",
       "4225.0        30\n",
       "25075.0       30\n",
       "22575.0       30\n",
       "28550.0       30\n",
       "2175.0        30\n",
       "8625.0        30\n",
       "25850.0       30\n",
       "20625.0       30\n",
       "6525.0        30\n",
       "2375.0        30\n",
       "16050.0       30\n",
       "17300.0       30\n",
       "29250.0       29\n",
       "26325.0       29\n",
       "25225.0       29\n",
       "2350.0        29\n",
       "29575.0       29\n",
       "9275.0        29\n",
       "4175.0        29\n",
       "10275.0       29\n",
       "27450.0       29\n",
       "21950.0       28\n",
       "20325.0       28\n",
       "18275.0       28\n",
       "32750.0       28\n",
       "29400.0       28\n",
       "1625.0        28\n",
       "3225.0        28\n",
       "21925.0       28\n",
       "25250.0       28\n",
       "34800.0       28\n",
       "25700.0       28\n",
       "33300.0       28\n",
       "26800.0       28\n",
       "30100.0       28\n",
       "20825.0       28\n",
       "1250.0        27\n",
       "24950.0       27\n",
       "9425.0        27\n",
       "4775.0        27\n",
       "24475.0       27\n",
       "3025.0        27\n",
       "19550.0       27\n",
       "13275.0       27\n",
       "21700.0       27\n",
       "20900.0       26\n",
       "20850.0       26\n",
       "21800.0       26\n",
       "24750.0       26\n",
       "19825.0       26\n",
       "16025.0       26\n",
       "34500.0       26\n",
       "25325.0       26\n",
       "21300.0       26\n",
       "24350.0       26\n",
       "26775.0       26\n",
       "29775.0       26\n",
       "30625.0       26\n",
       "34550.0       25\n",
       "25925.0       25\n",
       "13725.0       25\n",
       "2825.0        25\n",
       "24900.0       25\n",
       "33025.0       25\n",
       "17150.0       25\n",
       "27250.0       25\n",
       "2725.0        25\n",
       "2225.0        25\n",
       "17025.0       24\n",
       "34225.0       24\n",
       "27175.0       24\n",
       "2425.0        24\n",
       "2050.0        24\n",
       "28600.0       24\n",
       "20100.0       24\n",
       "31975.0       24\n",
       "2950.0        24\n",
       "4425.0        24\n",
       "28425.0       24\n",
       "24525.0       24\n",
       "14775.0       24\n",
       "2450.0        24\n",
       "23025.0       23\n",
       "16175.0       23\n",
       "12425.0       23\n",
       "9675.0        23\n",
       "26600.0       23\n",
       "18850.0       23\n",
       "13075.0       23\n",
       "1875.0        23\n",
       "27425.0       23\n",
       "26350.0       23\n",
       "11825.0       23\n",
       "1550.0        23\n",
       "26650.0       23\n",
       "25525.0       22\n",
       "26125.0       22\n",
       "34350.0       22\n",
       "13425.0       22\n",
       "16350.0       22\n",
       "17075.0       22\n",
       "7225.0        22\n",
       "30075.0       22\n",
       "15025.0       22\n",
       "3875.0        22\n",
       "14650.0       22\n",
       "22025.0       22\n",
       "33825.0       21\n",
       "17525.0       21\n",
       "18175.0       21\n",
       "18475.0       21\n",
       "18575.0       21\n",
       "31700.0       21\n",
       "25900.0       21\n",
       "25300.0       21\n",
       "21525.0       21\n",
       "3575.0        21\n",
       "29050.0       21\n",
       "19175.0       20\n",
       "31900.0       20\n",
       "18100.0       20\n",
       "14425.0       20\n",
       "8175.0        20\n",
       "30300.0       20\n",
       "17650.0       20\n",
       "19325.0       20\n",
       "23375.0       20\n",
       "15150.0       20\n",
       "22075.0       20\n",
       "32200.0       20\n",
       "2275.0        20\n",
       "16275.0       20\n",
       "1325.0        20\n",
       "1850.0        20\n",
       "27850.0       20\n",
       "15650.0       20\n",
       "24825.0       20\n",
       "22700.0       19\n",
       "13875.0       19\n",
       "19025.0       19\n",
       "19450.0       19\n",
       "27125.0       19\n",
       "34025.0       19\n",
       "2575.0        19\n",
       "33700.0       19\n",
       "27075.0       19\n",
       "22650.0       19\n",
       "28875.0       18\n",
       "21050.0       18\n",
       "21450.0       18\n",
       "13525.0       18\n",
       "27800.0       18\n",
       "23575.0       18\n",
       "28375.0       18\n",
       "34100.0       18\n",
       "23550.0       18\n",
       "24850.0       18\n",
       "22150.0       17\n",
       "23650.0       17\n",
       "18525.0       17\n",
       "30900.0       17\n",
       "18050.0       17\n",
       "2075.0        17\n",
       "21900.0       17\n",
       "2325.0        17\n",
       "21575.0       17\n",
       "31025.0       17\n",
       "14925.0       17\n",
       "1350.0        17\n",
       "20650.0       16\n",
       "20575.0       16\n",
       "1975.0        16\n",
       "26050.0       16\n",
       "2775.0        16\n",
       "23950.0       16\n",
       "34750.0       16\n",
       "25825.0       16\n",
       "2475.0        16\n",
       "31375.0       16\n",
       "26100.0       16\n",
       "1775.0        16\n",
       "2675.0        15\n",
       "24400.0       15\n",
       "33150.0       15\n",
       "18325.0       15\n",
       "22425.0       15\n",
       "1825.0        15\n",
       "2925.0        15\n",
       "28125.0       15\n",
       "28900.0       15\n",
       "29675.0       14\n",
       "1650.0        14\n",
       "16725.0       14\n",
       "20925.0       14\n",
       "29375.0       14\n",
       "27900.0       14\n",
       "25675.0       14\n",
       "19925.0       14\n",
       "21150.0       14\n",
       "24550.0       14\n",
       "24875.0       14\n",
       "21775.0       14\n",
       "25800.0       13\n",
       "27875.0       13\n",
       "26975.0       13\n",
       "24075.0       13\n",
       "28650.0       13\n",
       "28750.0       13\n",
       "31050.0       13\n",
       "15525.0       13\n",
       "21875.0       13\n",
       "21225.0       13\n",
       "23425.0       13\n",
       "34625.0       13\n",
       "28325.0       12\n",
       "1275.0        12\n",
       "31100.0       12\n",
       "17725.0       12\n",
       "28700.0       12\n",
       "18025.0       12\n",
       "24275.0       12\n",
       "24025.0       12\n",
       "23250.0       12\n",
       "22275.0       12\n",
       "21025.0       12\n",
       "23825.0       12\n",
       "18925.0       12\n",
       "33225.0       11\n",
       "29750.0       11\n",
       "26625.0       11\n",
       "25175.0       11\n",
       "34975.0       11\n",
       "25025.0       11\n",
       "19625.0       11\n",
       "27750.0       11\n",
       "22450.0       11\n",
       "22350.0       11\n",
       "26275.0       11\n",
       "29550.0       11\n",
       "29600.0       11\n",
       "1050.0        11\n",
       "29225.0       10\n",
       "22225.0       10\n",
       "23150.0       10\n",
       "1525.0        10\n",
       "20450.0       10\n",
       "23175.0       10\n",
       "29125.0        9\n",
       "30400.0        9\n",
       "1375.0         9\n",
       "23525.0        9\n",
       "22175.0        9\n",
       "33800.0        9\n",
       "19525.0        9\n",
       "1575.0         9\n",
       "26150.0        9\n",
       "34200.0        9\n",
       "21675.0        9\n",
       "1150.0         9\n",
       "27475.0        9\n",
       "27700.0        9\n",
       "20525.0        9\n",
       "23625.0        8\n",
       "25275.0        8\n",
       "24050.0        8\n",
       "27375.0        8\n",
       "26450.0        8\n",
       "32425.0        8\n",
       "24425.0        8\n",
       "21375.0        8\n",
       "28175.0        8\n",
       "26550.0        8\n",
       "1125.0         8\n",
       "30600.0        8\n",
       "25100.0        8\n",
       "23775.0        8\n",
       "22975.0        8\n",
       "29875.0        7\n",
       "25550.0        7\n",
       "29800.0        7\n",
       "32250.0        7\n",
       "26900.0        7\n",
       "27100.0        7\n",
       "22925.0        7\n",
       "25775.0        7\n",
       "24100.0        7\n",
       "27225.0        7\n",
       "22725.0        7\n",
       "25650.0        7\n",
       "30200.0        7\n",
       "21425.0        7\n",
       "2025.0         7\n",
       "28450.0        7\n",
       "27400.0        7\n",
       "1475.0         6\n",
       "30825.0        6\n",
       "20075.0        6\n",
       "26075.0        6\n",
       "28350.0        6\n",
       "20025.0        6\n",
       "29300.0        6\n",
       "24150.0        6\n",
       "27675.0        6\n",
       "22825.0        6\n",
       "31775.0        6\n",
       "25400.0        6\n",
       "24225.0        6\n",
       "31800.0        6\n",
       "26950.0        6\n",
       "30725.0        6\n",
       "29950.0        6\n",
       "24775.0        6\n",
       "28850.0        6\n",
       "25350.0        6\n",
       "26875.0        6\n",
       "25575.0        5\n",
       "34900.0        5\n",
       "500.0          5\n",
       "30025.0        5\n",
       "31400.0        5\n",
       "30250.0        5\n",
       "24675.0        5\n",
       "22625.0        5\n",
       "26700.0        5\n",
       "29200.0        5\n",
       "25750.0        5\n",
       "30700.0        5\n",
       "26425.0        5\n",
       "27825.0        5\n",
       "31950.0        5\n",
       "28575.0        5\n",
       "27275.0        5\n",
       "1725.0         5\n",
       "30550.0        5\n",
       "28050.0        5\n",
       "30950.0        4\n",
       "33325.0        4\n",
       "26525.0        4\n",
       "26675.0        4\n",
       "29825.0        4\n",
       "29725.0        4\n",
       "29150.0        4\n",
       "34400.0        4\n",
       "26225.0        4\n",
       "1025.0         4\n",
       "30925.0        4\n",
       "30875.0        4\n",
       "27625.0        4\n",
       "25625.0        4\n",
       "30975.0        4\n",
       "33250.0        4\n",
       "32700.0        3\n",
       "1225.0         3\n",
       "32075.0        3\n",
       "28225.0        3\n",
       "27550.0        3\n",
       "24325.0        3\n",
       "34375.0        3\n",
       "34575.0        3\n",
       "28400.0        3\n",
       "30475.0        3\n",
       "32450.0        3\n",
       "31075.0        3\n",
       "29350.0        3\n",
       "30575.0        3\n",
       "32525.0        3\n",
       "32600.0        3\n",
       "32125.0        3\n",
       "30325.0        3\n",
       "34850.0        3\n",
       "32850.0        3\n",
       "32325.0        3\n",
       "32800.0        3\n",
       "25950.0        3\n",
       "31625.0        3\n",
       "27950.0        3\n",
       "31150.0        3\n",
       "29275.0        3\n",
       "32650.0        3\n",
       "32475.0        3\n",
       "29650.0        3\n",
       "29475.0        3\n",
       "26025.0        3\n",
       "30275.0        3\n",
       "31675.0        3\n",
       "28300.0        3\n",
       "29625.0        3\n",
       "28925.0        3\n",
       "25125.0        3\n",
       "1075.0         3\n",
       "33075.0        3\n",
       "1175.0         3\n",
       "28525.0        3\n",
       "32975.0        2\n",
       "31250.0        2\n",
       "31525.0        2\n",
       "33725.0        2\n",
       "33650.0        2\n",
       "31725.0        2\n",
       "31125.0        2\n",
       "32175.0        2\n",
       "31325.0        2\n",
       "31425.0        2\n",
       "33750.0        2\n",
       "32275.0        2\n",
       "32675.0        2\n",
       "28075.0        2\n",
       "34275.0        2\n",
       "34650.0        2\n",
       "29425.0        2\n",
       "27925.0        2\n",
       "30850.0        2\n",
       "33900.0        2\n",
       "32900.0        2\n",
       "31550.0        2\n",
       "29075.0        2\n",
       "27350.0        2\n",
       "26725.0        2\n",
       "29525.0        2\n",
       "26825.0        2\n",
       "31750.0        2\n",
       "31600.0        2\n",
       "27025.0        2\n",
       "28675.0        2\n",
       "30650.0        2\n",
       "34300.0        2\n",
       "28275.0        2\n",
       "25425.0        2\n",
       "900.0          2\n",
       "33050.0        2\n",
       "30350.0        2\n",
       "32550.0        2\n",
       "32050.0        2\n",
       "34950.0        2\n",
       "33200.0        2\n",
       "31350.0        2\n",
       "34675.0        2\n",
       "28950.0        2\n",
       "27775.0        2\n",
       "32300.0        2\n",
       "30175.0        2\n",
       "30150.0        2\n",
       "1425.0         2\n",
       "34925.0        2\n",
       "32150.0        1\n",
       "33175.0        1\n",
       "30450.0        1\n",
       "700.0          1\n",
       "34250.0        1\n",
       "750.0          1\n",
       "32725.0        1\n",
       "26175.0        1\n",
       "32375.0        1\n",
       "33850.0        1\n",
       "22775.0        1\n",
       "950.0          1\n",
       "28725.0        1\n",
       "28025.0        1\n",
       "31475.0        1\n",
       "34425.0        1\n",
       "30775.0        1\n",
       "34525.0        1\n",
       "30675.0        1\n",
       "30525.0        1\n",
       "34725.0        1\n",
       "30425.0        1\n",
       "34775.0        1\n",
       "34825.0        1\n",
       "30125.0        1\n",
       "33875.0        1\n",
       "33350.0        1\n",
       "33775.0        1\n",
       "34700.0        1\n",
       "31650.0        1\n",
       "33675.0        1\n",
       "29025.0        1\n",
       "725.0          1\n",
       "28825.0        1\n",
       "33450.0        1\n",
       "34600.0        1\n",
       "33475.0        1\n",
       "34325.0        1\n",
       "28150.0        1\n",
       "31875.0        1\n",
       "31925.0        1\n",
       "28475.0        1\n",
       "800.0          1\n",
       "32775.0        1\n",
       "Name: X5, Length: 1342, dtype: int64"
      ]
     },
     "execution_count": 339,
     "metadata": {},
     "output_type": "execute_result"
    }
   ],
   "source": [
    "df.X5.value_counts()"
   ]
  },
  {
   "cell_type": "code",
   "execution_count": 340,
   "metadata": {},
   "outputs": [],
   "source": [
    "df = df.dropna()"
   ]
  },
  {
   "cell_type": "code",
   "execution_count": 342,
   "metadata": {},
   "outputs": [
    {
     "data": {
      "text/html": [
       "<div>\n",
       "<style scoped>\n",
       "    .dataframe tbody tr th:only-of-type {\n",
       "        vertical-align: middle;\n",
       "    }\n",
       "\n",
       "    .dataframe tbody tr th {\n",
       "        vertical-align: top;\n",
       "    }\n",
       "\n",
       "    .dataframe thead th {\n",
       "        text-align: right;\n",
       "    }\n",
       "</style>\n",
       "<table border=\"1\" class=\"dataframe\">\n",
       "  <thead>\n",
       "    <tr style=\"text-align: right;\">\n",
       "      <th></th>\n",
       "      <th>X1</th>\n",
       "      <th>X5</th>\n",
       "      <th>X6</th>\n",
       "      <th>X13</th>\n",
       "      <th>X21</th>\n",
       "    </tr>\n",
       "  </thead>\n",
       "  <tbody>\n",
       "    <tr>\n",
       "      <th>0</th>\n",
       "      <td>11.89</td>\n",
       "      <td>25000.0</td>\n",
       "      <td>19080.0</td>\n",
       "      <td>85000.0</td>\n",
       "      <td>19.48</td>\n",
       "    </tr>\n",
       "    <tr>\n",
       "      <th>1</th>\n",
       "      <td>10.71</td>\n",
       "      <td>7000.0</td>\n",
       "      <td>673.0</td>\n",
       "      <td>65000.0</td>\n",
       "      <td>14.29</td>\n",
       "    </tr>\n",
       "  </tbody>\n",
       "</table>\n",
       "</div>"
      ],
      "text/plain": [
       "      X1       X5       X6      X13    X21\n",
       "0  11.89  25000.0  19080.0  85000.0  19.48\n",
       "1  10.71   7000.0    673.0  65000.0  14.29"
      ]
     },
     "execution_count": 342,
     "metadata": {},
     "output_type": "execute_result"
    }
   ],
   "source": [
    "#Creating a data set of float variables\n",
    "ds_float = df.select_dtypes(include = 'float').copy()\n",
    "ds_float.head(2)"
   ]
  },
  {
   "cell_type": "code",
   "execution_count": 343,
   "metadata": {},
   "outputs": [
    {
     "data": {
      "text/html": [
       "<div>\n",
       "<style scoped>\n",
       "    .dataframe tbody tr th:only-of-type {\n",
       "        vertical-align: middle;\n",
       "    }\n",
       "\n",
       "    .dataframe tbody tr th {\n",
       "        vertical-align: top;\n",
       "    }\n",
       "\n",
       "    .dataframe thead th {\n",
       "        text-align: right;\n",
       "    }\n",
       "</style>\n",
       "<table border=\"1\" class=\"dataframe\">\n",
       "  <thead>\n",
       "    <tr style=\"text-align: right;\">\n",
       "      <th></th>\n",
       "      <th>column</th>\n",
       "      <th>values</th>\n",
       "      <th>values_count_incna</th>\n",
       "      <th>values_count_nona</th>\n",
       "      <th>num_miss</th>\n",
       "      <th>pct_miss</th>\n",
       "    </tr>\n",
       "  </thead>\n",
       "  <tbody>\n",
       "    <tr>\n",
       "      <th>0</th>\n",
       "      <td>X1</td>\n",
       "      <td>[11.89, 10.71, 16.99, 13.11, 13.57, 19.05, 10.08, 14.26, 7.88, 14.96, 9.88, 11.14, 11.34, 12.21,...</td>\n",
       "      <td>481</td>\n",
       "      <td>481</td>\n",
       "      <td>0</td>\n",
       "      <td>0.0</td>\n",
       "    </tr>\n",
       "    <tr>\n",
       "      <th>0</th>\n",
       "      <td>X5</td>\n",
       "      <td>[25000.0, 7000.0, 1200.0, 10800.0, 7200.0, 5025.0, 3000.0, 4000.0, 5600.0, 3200.0, 2650.0, 2525....</td>\n",
       "      <td>1325</td>\n",
       "      <td>1325</td>\n",
       "      <td>0</td>\n",
       "      <td>0.0</td>\n",
       "    </tr>\n",
       "    <tr>\n",
       "      <th>0</th>\n",
       "      <td>X6</td>\n",
       "      <td>[19080.0, 673.0, 24725.0, 1200.0, 10692.0, 7200.0, 557.0, 2988.0, 3900.0, 5525.0, 3200.0, 3892.0...</td>\n",
       "      <td>5810</td>\n",
       "      <td>5810</td>\n",
       "      <td>0</td>\n",
       "      <td>0.0</td>\n",
       "    </tr>\n",
       "    <tr>\n",
       "      <th>0</th>\n",
       "      <td>X13</td>\n",
       "      <td>[85000.0, 65000.0, 70000.0, 54000.0, 32000.0, 58000.0, 80800.0, 148000.0, 45000.0, 60000.0, 9000...</td>\n",
       "      <td>22154</td>\n",
       "      <td>22154</td>\n",
       "      <td>0</td>\n",
       "      <td>0.0</td>\n",
       "    </tr>\n",
       "    <tr>\n",
       "      <th>0</th>\n",
       "      <td>X21</td>\n",
       "      <td>[19.48, 14.29, 10.5, 5.47, 11.63, 2.05, 8.1, 14.97, 16.98, 4.0, 6.51, 11.08, 17.25, 10.0, 22.09,...</td>\n",
       "      <td>3912</td>\n",
       "      <td>3912</td>\n",
       "      <td>0</td>\n",
       "      <td>0.0</td>\n",
       "    </tr>\n",
       "  </tbody>\n",
       "</table>\n",
       "</div>"
      ],
      "text/plain": [
       "  column  \\\n",
       "0     X1   \n",
       "0     X5   \n",
       "0     X6   \n",
       "0    X13   \n",
       "0    X21   \n",
       "\n",
       "                                                                                                values  \\\n",
       "0  [11.89, 10.71, 16.99, 13.11, 13.57, 19.05, 10.08, 14.26, 7.88, 14.96, 9.88, 11.14, 11.34, 12.21,...   \n",
       "0  [25000.0, 7000.0, 1200.0, 10800.0, 7200.0, 5025.0, 3000.0, 4000.0, 5600.0, 3200.0, 2650.0, 2525....   \n",
       "0  [19080.0, 673.0, 24725.0, 1200.0, 10692.0, 7200.0, 557.0, 2988.0, 3900.0, 5525.0, 3200.0, 3892.0...   \n",
       "0  [85000.0, 65000.0, 70000.0, 54000.0, 32000.0, 58000.0, 80800.0, 148000.0, 45000.0, 60000.0, 9000...   \n",
       "0  [19.48, 14.29, 10.5, 5.47, 11.63, 2.05, 8.1, 14.97, 16.98, 4.0, 6.51, 11.08, 17.25, 10.0, 22.09,...   \n",
       "\n",
       "  values_count_incna values_count_nona num_miss  pct_miss  \n",
       "0                481               481        0       0.0  \n",
       "0               1325              1325        0       0.0  \n",
       "0               5810              5810        0       0.0  \n",
       "0              22154             22154        0       0.0  \n",
       "0               3912              3912        0       0.0  "
      ]
     },
     "execution_count": 343,
     "metadata": {},
     "output_type": "execute_result"
    }
   ],
   "source": [
    "ds_float_stats = pd.DataFrame(columns = ['column', 'values', 'values_count_incna', 'values_count_nona', \n",
    "                                       'num_miss', 'pct_miss'])\n",
    "tmp = pd.DataFrame()\n",
    "\n",
    "for c in ds_float.columns:\n",
    "    tmp['column'] = [c]\n",
    "    tmp['values'] = [ds_float[c].unique()]\n",
    "    tmp['values_count_incna'] = len(list(ds_float[c].unique()))\n",
    "    tmp['values_count_nona'] = int(ds_float[c].nunique())\n",
    "    tmp['num_miss'] = ds_float[c].isnull().sum()\n",
    "    tmp['pct_miss'] = (ds_float[c].isnull().sum()/ len(ds_cat)).round(3)*100\n",
    "    ds_float_stats = ds_float_stats.append(tmp)\n",
    "    \n",
    "ds_float_stats"
   ]
  },
  {
   "cell_type": "code",
   "execution_count": 344,
   "metadata": {},
   "outputs": [
    {
     "data": {
      "text/html": [
       "<div>\n",
       "<style scoped>\n",
       "    .dataframe tbody tr th:only-of-type {\n",
       "        vertical-align: middle;\n",
       "    }\n",
       "\n",
       "    .dataframe tbody tr th {\n",
       "        vertical-align: top;\n",
       "    }\n",
       "\n",
       "    .dataframe thead th {\n",
       "        text-align: right;\n",
       "    }\n",
       "</style>\n",
       "<table border=\"1\" class=\"dataframe\">\n",
       "  <thead>\n",
       "    <tr style=\"text-align: right;\">\n",
       "      <th></th>\n",
       "      <th>X7</th>\n",
       "      <th>X8</th>\n",
       "      <th>X9</th>\n",
       "      <th>X22</th>\n",
       "      <th>X24</th>\n",
       "    </tr>\n",
       "  </thead>\n",
       "  <tbody>\n",
       "    <tr>\n",
       "      <th>0</th>\n",
       "      <td>36</td>\n",
       "      <td>B</td>\n",
       "      <td>B4</td>\n",
       "      <td>0.0</td>\n",
       "      <td>0.0</td>\n",
       "    </tr>\n",
       "    <tr>\n",
       "      <th>1</th>\n",
       "      <td>36</td>\n",
       "      <td>B</td>\n",
       "      <td>B5</td>\n",
       "      <td>0.0</td>\n",
       "      <td>0.0</td>\n",
       "    </tr>\n",
       "  </tbody>\n",
       "</table>\n",
       "</div>"
      ],
      "text/plain": [
       "     X7 X8  X9  X22  X24\n",
       "0   36   B  B4  0.0  0.0\n",
       "1   36   B  B5  0.0  0.0"
      ]
     },
     "execution_count": 344,
     "metadata": {},
     "output_type": "execute_result"
    }
   ],
   "source": [
    "# Creating a data set of Category variables\n",
    "ds_cat = df.select_dtypes(include = 'object').copy()\n",
    "ds_cat.head(2)"
   ]
  },
  {
   "cell_type": "code",
   "execution_count": 345,
   "metadata": {},
   "outputs": [
    {
     "data": {
      "text/html": [
       "<div>\n",
       "<style scoped>\n",
       "    .dataframe tbody tr th:only-of-type {\n",
       "        vertical-align: middle;\n",
       "    }\n",
       "\n",
       "    .dataframe tbody tr th {\n",
       "        vertical-align: top;\n",
       "    }\n",
       "\n",
       "    .dataframe thead th {\n",
       "        text-align: right;\n",
       "    }\n",
       "</style>\n",
       "<table border=\"1\" class=\"dataframe\">\n",
       "  <thead>\n",
       "    <tr style=\"text-align: right;\">\n",
       "      <th></th>\n",
       "      <th>column</th>\n",
       "      <th>values</th>\n",
       "      <th>values_count_incna</th>\n",
       "      <th>values_count_nona</th>\n",
       "      <th>num_miss</th>\n",
       "      <th>pct_miss</th>\n",
       "    </tr>\n",
       "  </thead>\n",
       "  <tbody>\n",
       "    <tr>\n",
       "      <th>0</th>\n",
       "      <td>X7</td>\n",
       "      <td>[ 36 ,  60 ]</td>\n",
       "      <td>2</td>\n",
       "      <td>2</td>\n",
       "      <td>0</td>\n",
       "      <td>0.0</td>\n",
       "    </tr>\n",
       "    <tr>\n",
       "      <th>0</th>\n",
       "      <td>X8</td>\n",
       "      <td>[B, D, C, A, E, F, nan, G]</td>\n",
       "      <td>8</td>\n",
       "      <td>8</td>\n",
       "      <td>0</td>\n",
       "      <td>0.0</td>\n",
       "    </tr>\n",
       "    <tr>\n",
       "      <th>0</th>\n",
       "      <td>X9</td>\n",
       "      <td>[B4, B5, D3, C2, C3, D4, B3, C5, A5, D2, B1, C4, A4, A3, C1, E4, B2, A2, E2, E1, D1, F1, F2, A1,...</td>\n",
       "      <td>36</td>\n",
       "      <td>36</td>\n",
       "      <td>0</td>\n",
       "      <td>0.0</td>\n",
       "    </tr>\n",
       "    <tr>\n",
       "      <th>0</th>\n",
       "      <td>X22</td>\n",
       "      <td>[0.0, 1.0, 2.0, 3.0, 4.0, 5.0, 6.0, 8.0, 7.0, 11.0, 9.0, 10.0, 18.0, 12.0, 14.0, 24.0, 29.0, 13....</td>\n",
       "      <td>24</td>\n",
       "      <td>24</td>\n",
       "      <td>0</td>\n",
       "      <td>0.0</td>\n",
       "    </tr>\n",
       "    <tr>\n",
       "      <th>0</th>\n",
       "      <td>X24</td>\n",
       "      <td>[0.0, 1.0, 2.0, 3.0, 4.0, 5.0, 6.0, 8.0, 7.0]</td>\n",
       "      <td>9</td>\n",
       "      <td>9</td>\n",
       "      <td>0</td>\n",
       "      <td>0.0</td>\n",
       "    </tr>\n",
       "  </tbody>\n",
       "</table>\n",
       "</div>"
      ],
      "text/plain": [
       "  column  \\\n",
       "0     X7   \n",
       "0     X8   \n",
       "0     X9   \n",
       "0    X22   \n",
       "0    X24   \n",
       "\n",
       "                                                                                                values  \\\n",
       "0                                                                                         [ 36 ,  60 ]   \n",
       "0                                                                           [B, D, C, A, E, F, nan, G]   \n",
       "0  [B4, B5, D3, C2, C3, D4, B3, C5, A5, D2, B1, C4, A4, A3, C1, E4, B2, A2, E2, E1, D1, F1, F2, A1,...   \n",
       "0  [0.0, 1.0, 2.0, 3.0, 4.0, 5.0, 6.0, 8.0, 7.0, 11.0, 9.0, 10.0, 18.0, 12.0, 14.0, 24.0, 29.0, 13....   \n",
       "0                                                        [0.0, 1.0, 2.0, 3.0, 4.0, 5.0, 6.0, 8.0, 7.0]   \n",
       "\n",
       "  values_count_incna values_count_nona num_miss  pct_miss  \n",
       "0                  2                 2        0       0.0  \n",
       "0                  8                 8        0       0.0  \n",
       "0                 36                36        0       0.0  \n",
       "0                 24                24        0       0.0  \n",
       "0                  9                 9        0       0.0  "
      ]
     },
     "execution_count": 345,
     "metadata": {},
     "output_type": "execute_result"
    }
   ],
   "source": [
    "# Summarising the variable counts in a table\n",
    "ds_cat_stats = pd.DataFrame(columns = ['column', 'values', 'values_count_incna', 'values_count_nona', \n",
    "                                       'num_miss', 'pct_miss'])\n",
    "tmp = pd.DataFrame()\n",
    "\n",
    "for c in ds_cat.columns:\n",
    "    tmp['column'] = [c]\n",
    "    tmp['values'] = [ds_cat[c].unique()]\n",
    "    tmp['values_count_incna'] = len(list(ds_cat[c].unique()))\n",
    "    tmp['values_count_nona'] = int(ds_cat[c].nunique())\n",
    "    tmp['num_miss'] = ds_cat[c].isnull().sum()\n",
    "    tmp['pct_miss'] = (ds_cat[c].isnull().sum()/ len(ds_cat)).round(3)*100\n",
    "    ds_cat_stats = ds_cat_stats.append(tmp)\n",
    "    \n",
    "ds_cat_stats"
   ]
  },
  {
   "cell_type": "code",
   "execution_count": 346,
   "metadata": {},
   "outputs": [
    {
     "data": {
      "text/html": [
       "<div>\n",
       "<style scoped>\n",
       "    .dataframe tbody tr th:only-of-type {\n",
       "        vertical-align: middle;\n",
       "    }\n",
       "\n",
       "    .dataframe tbody tr th {\n",
       "        vertical-align: top;\n",
       "    }\n",
       "\n",
       "    .dataframe thead th {\n",
       "        text-align: right;\n",
       "    }\n",
       "</style>\n",
       "<table border=\"1\" class=\"dataframe\">\n",
       "  <thead>\n",
       "    <tr style=\"text-align: right;\">\n",
       "      <th></th>\n",
       "      <th>values</th>\n",
       "      <th>values_count_incna</th>\n",
       "      <th>values_count_nona</th>\n",
       "      <th>num_miss</th>\n",
       "      <th>pct_miss</th>\n",
       "    </tr>\n",
       "    <tr>\n",
       "      <th>column</th>\n",
       "      <th></th>\n",
       "      <th></th>\n",
       "      <th></th>\n",
       "      <th></th>\n",
       "      <th></th>\n",
       "    </tr>\n",
       "  </thead>\n",
       "  <tbody>\n",
       "    <tr>\n",
       "      <th>X7</th>\n",
       "      <td>[ 36 ,  60 ]</td>\n",
       "      <td>2</td>\n",
       "      <td>2</td>\n",
       "      <td>0</td>\n",
       "      <td>0.0</td>\n",
       "    </tr>\n",
       "    <tr>\n",
       "      <th>X8</th>\n",
       "      <td>[B, D, C, A, E, F, nan, G]</td>\n",
       "      <td>8</td>\n",
       "      <td>8</td>\n",
       "      <td>0</td>\n",
       "      <td>0.0</td>\n",
       "    </tr>\n",
       "    <tr>\n",
       "      <th>X24</th>\n",
       "      <td>[0.0, 1.0, 2.0, 3.0, 4.0, 5.0, 6.0, 8.0, 7.0]</td>\n",
       "      <td>9</td>\n",
       "      <td>9</td>\n",
       "      <td>0</td>\n",
       "      <td>0.0</td>\n",
       "    </tr>\n",
       "    <tr>\n",
       "      <th>X22</th>\n",
       "      <td>[0.0, 1.0, 2.0, 3.0, 4.0, 5.0, 6.0, 8.0, 7.0, 11.0, 9.0, 10.0, 18.0, 12.0, 14.0, 24.0, 29.0, 13....</td>\n",
       "      <td>24</td>\n",
       "      <td>24</td>\n",
       "      <td>0</td>\n",
       "      <td>0.0</td>\n",
       "    </tr>\n",
       "    <tr>\n",
       "      <th>X9</th>\n",
       "      <td>[B4, B5, D3, C2, C3, D4, B3, C5, A5, D2, B1, C4, A4, A3, C1, E4, B2, A2, E2, E1, D1, F1, F2, A1,...</td>\n",
       "      <td>36</td>\n",
       "      <td>36</td>\n",
       "      <td>0</td>\n",
       "      <td>0.0</td>\n",
       "    </tr>\n",
       "  </tbody>\n",
       "</table>\n",
       "</div>"
      ],
      "text/plain": [
       "                                                                                                     values  \\\n",
       "column                                                                                                        \n",
       "X7                                                                                             [ 36 ,  60 ]   \n",
       "X8                                                                               [B, D, C, A, E, F, nan, G]   \n",
       "X24                                                           [0.0, 1.0, 2.0, 3.0, 4.0, 5.0, 6.0, 8.0, 7.0]   \n",
       "X22     [0.0, 1.0, 2.0, 3.0, 4.0, 5.0, 6.0, 8.0, 7.0, 11.0, 9.0, 10.0, 18.0, 12.0, 14.0, 24.0, 29.0, 13....   \n",
       "X9      [B4, B5, D3, C2, C3, D4, B3, C5, A5, D2, B1, C4, A4, A3, C1, E4, B2, A2, E2, E1, D1, F1, F2, A1,...   \n",
       "\n",
       "       values_count_incna values_count_nona num_miss  pct_miss  \n",
       "column                                                          \n",
       "X7                      2                 2        0       0.0  \n",
       "X8                      8                 8        0       0.0  \n",
       "X24                     9                 9        0       0.0  \n",
       "X22                    24                24        0       0.0  \n",
       "X9                     36                36        0       0.0  "
      ]
     },
     "execution_count": 346,
     "metadata": {},
     "output_type": "execute_result"
    }
   ],
   "source": [
    "# Let's do an Ascending sort on the Numboer of Distinct Categories for each categorical Variables\n",
    "ds_cat_stats.sort_values(by = 'values_count_incna', inplace = True, ascending = True)\n",
    "\n",
    "# And set the index to Column Names\n",
    "ds_cat_stats.set_index('column', inplace = True)\n",
    "ds_cat_stats"
   ]
  },
  {
   "cell_type": "code",
   "execution_count": 347,
   "metadata": {},
   "outputs": [
    {
     "name": "stderr",
     "output_type": "stream",
     "text": [
      "//anaconda3/lib/python3.7/site-packages/ipykernel_launcher.py:1: SettingWithCopyWarning: \n",
      "A value is trying to be set on a copy of a slice from a DataFrame.\n",
      "Try using .loc[row_indexer,col_indexer] = value instead\n",
      "\n",
      "See the caveats in the documentation: http://pandas.pydata.org/pandas-docs/stable/indexing.html#indexing-view-versus-copy\n",
      "  \"\"\"Entry point for launching an IPython kernel.\n"
     ]
    }
   ],
   "source": [
    "df['X8']=df['X8'].fillna('Not Sure')"
   ]
  },
  {
   "cell_type": "code",
   "execution_count": 348,
   "metadata": {},
   "outputs": [
    {
     "data": {
      "text/plain": [
       "B      72935\n",
       "C      64660\n",
       "nan    44105\n",
       "D      39700\n",
       "A      38623\n",
       "E      18370\n",
       "F       7098\n",
       "G       1747\n",
       "Name: X8, dtype: int64"
      ]
     },
     "execution_count": 348,
     "metadata": {},
     "output_type": "execute_result"
    }
   ],
   "source": [
    "df.X8.value_counts()"
   ]
  },
  {
   "cell_type": "code",
   "execution_count": 349,
   "metadata": {},
   "outputs": [
    {
     "data": {
      "text/plain": [
       "0.0    145811\n",
       "1.0     80755\n",
       "2.0     37285\n",
       "3.0     16804\n",
       "4.0      4368\n",
       "5.0      1520\n",
       "6.0       643\n",
       "7.0        38\n",
       "8.0        14\n",
       "Name: X24, dtype: int64"
      ]
     },
     "execution_count": 349,
     "metadata": {},
     "output_type": "execute_result"
    }
   ],
   "source": [
    "df.X24.value_counts()"
   ]
  },
  {
   "cell_type": "code",
   "execution_count": 350,
   "metadata": {},
   "outputs": [
    {
     "data": {
      "text/plain": [
       "0.0     237489\n",
       "1.0      33768\n",
       "2.0       9644\n",
       "3.0       3369\n",
       "4.0       1405\n",
       "5.0        720\n",
       "6.0        373\n",
       "7.0        202\n",
       "8.0         95\n",
       "9.0         56\n",
       "10.0        43\n",
       "11.0        21\n",
       "12.0        20\n",
       "13.0         9\n",
       "16.0         5\n",
       "18.0         4\n",
       "14.0         4\n",
       "17.0         3\n",
       "19.0         2\n",
       "15.0         2\n",
       "22.0         1\n",
       "24.0         1\n",
       "29.0         1\n",
       "21.0         1\n",
       "Name: X22, dtype: int64"
      ]
     },
     "execution_count": 350,
     "metadata": {},
     "output_type": "execute_result"
    }
   ],
   "source": [
    "df.X22.value_counts()"
   ]
  },
  {
   "cell_type": "code",
   "execution_count": 351,
   "metadata": {},
   "outputs": [
    {
     "data": {
      "text/plain": [
       "nan    44105\n",
       "B3     17314\n",
       "B4     16203\n",
       "B2     14125\n",
       "C1     13844\n",
       "C2     13825\n",
       "C3     13133\n",
       "B5     13126\n",
       "C4     12316\n",
       "B1     12167\n",
       "C5     11542\n",
       "A5     11115\n",
       "A4     10013\n",
       "D1      9907\n",
       "D2      8875\n",
       "D3      7677\n",
       "D4      7221\n",
       "A3      6510\n",
       "D5      6020\n",
       "A1      5510\n",
       "A2      5475\n",
       "E1      4614\n",
       "E2      4438\n",
       "E3      3621\n",
       "E4      3091\n",
       "E5      2606\n",
       "F1      2098\n",
       "F2      1567\n",
       "F3      1472\n",
       "F4      1126\n",
       "F5       835\n",
       "G1       588\n",
       "G2       440\n",
       "G3       321\n",
       "G4       219\n",
       "G5       179\n",
       "Name: X9, dtype: int64"
      ]
     },
     "execution_count": 351,
     "metadata": {},
     "output_type": "execute_result"
    }
   ],
   "source": [
    "df.X9.value_counts()"
   ]
  },
  {
   "cell_type": "code",
   "execution_count": 352,
   "metadata": {},
   "outputs": [
    {
     "data": {
      "text/plain": [
       "B      72935\n",
       "C      64660\n",
       "nan    44105\n",
       "D      39700\n",
       "A      38623\n",
       "E      18370\n",
       "F       7098\n",
       "G       1747\n",
       "Name: X8, dtype: int64"
      ]
     },
     "execution_count": 352,
     "metadata": {},
     "output_type": "execute_result"
    }
   ],
   "source": [
    "df.X8.value_counts()"
   ]
  },
  {
   "cell_type": "code",
   "execution_count": 353,
   "metadata": {},
   "outputs": [
    {
     "data": {
      "text/plain": [
       "Index(['X1', 'X5', 'X6', 'X7', 'X8', 'X9', 'X13', 'X21', 'X22', 'X24'], dtype='object')"
      ]
     },
     "execution_count": 353,
     "metadata": {},
     "output_type": "execute_result"
    }
   ],
   "source": [
    "df.columns"
   ]
  },
  {
   "cell_type": "code",
   "execution_count": 354,
   "metadata": {},
   "outputs": [
    {
     "name": "stdout",
     "output_type": "stream",
     "text": [
      "<class 'pandas.core.frame.DataFrame'>\n",
      "Int64Index: 287238 entries, 0 to 399999\n",
      "Data columns (total 10 columns):\n",
      "X1     287238 non-null float64\n",
      "X5     287238 non-null float64\n",
      "X6     287238 non-null float64\n",
      "X7     287238 non-null object\n",
      "X8     287238 non-null object\n",
      "X9     287238 non-null object\n",
      "X13    287238 non-null float64\n",
      "X21    287238 non-null float64\n",
      "X22    287238 non-null object\n",
      "X24    287238 non-null object\n",
      "dtypes: float64(5), object(5)\n",
      "memory usage: 24.1+ MB\n"
     ]
    }
   ],
   "source": [
    "df.info()"
   ]
  },
  {
   "cell_type": "markdown",
   "metadata": {},
   "source": [
    "## Plotting the Relationship between the selected features and outcome feature"
   ]
  },
  {
   "cell_type": "code",
   "execution_count": 355,
   "metadata": {
    "scrolled": true
   },
   "outputs": [
    {
     "data": {
      "text/plain": [
       "<matplotlib.axes._subplots.AxesSubplot at 0x1b14386940>"
      ]
     },
     "execution_count": 355,
     "metadata": {},
     "output_type": "execute_result"
    },
    {
     "data": {
      "image/png": "[encoded data removed]",
      "text/plain": [
       "<Figure size 432x288 with 1 Axes>"
      ]
     },
     "metadata": {},
     "output_type": "display_data"
    }
   ],
   "source": [
    "sns.boxplot(data = df, x='X5', y='X1')"
   ]
  },
  {
   "cell_type": "code",
   "execution_count": 215,
   "metadata": {},
   "outputs": [],
   "source": [
    "ds_cat['X1'] = df.loc[ds_cat.index, 'X1'].copy()"
   ]
  },
  {
   "cell_type": "code",
   "execution_count": 216,
   "metadata": {},
   "outputs": [
    {
     "data": {
      "image/png": "[encoded data removed]",
      "text/plain": [
       "<Figure size 1080x720 with 6 Axes>"
      ]
     },
     "metadata": {
      "needs_background": "light"
     },
     "output_type": "display_data"
    },
    {
     "data": {
      "image/png": "[encoded data removed]",
      "text/plain": [
       "<Figure size 1080x720 with 6 Axes>"
      ]
     },
     "metadata": {
      "needs_background": "light"
     },
     "output_type": "display_data"
    },
    {
     "data": {
      "image/png": "[encoded data removed]",
      "text/plain": [
       "<Figure size 1080x720 with 2 Axes>"
      ]
     },
     "metadata": {
      "needs_background": "light"
     },
     "output_type": "display_data"
    }
   ],
   "source": [
    "ix = 1\n",
    "fig = plt.figure(figsize = (15,10))\n",
    "for c in list(ds_cat.columns):\n",
    "    if ix <= 3:\n",
    "        if c != 'X1':\n",
    "            ax1 = fig.add_subplot(2,3,ix)\n",
    "            sns.countplot(data = ds_cat, x=c, ax = ax1)\n",
    "            ax2 = fig.add_subplot(2,3,ix+3)\n",
    "            sns.boxplot(data=ds_cat, x=c, y='X1', ax=ax2)\n",
    "            #sns.violinplot(data=ds_cat, x=c, y='SalePrice', ax=ax2)\n",
    "            #sns.swarmplot(data = ds_cat, x=c, y ='SalePrice', color = 'k', alpha = 0.4, ax=ax2)\n",
    "            \n",
    "    ix = ix +1\n",
    "    if ix == 4: \n",
    "        fig = plt.figure(figsize = (15,10))\n",
    "        ix =1\n"
   ]
  },
  {
   "cell_type": "code",
   "execution_count": 221,
   "metadata": {},
   "outputs": [
    {
     "data": {
      "image/png": "[encoded data removed]",
      "text/plain": [
       "<Figure size 1152x576 with 1 Axes>"
      ]
     },
     "metadata": {},
     "output_type": "display_data"
    }
   ],
   "source": [
    "fig, ax = plt.subplots(figsize=(16,8))\n",
    "ax.scatter(df['X5'], df['X1'])\n",
    "ax.set_xlabel('Loan Amount Funded')\n",
    "ax.set_ylabel('Interest Rate of the loan')\n",
    "plt.show()"
   ]
  },
  {
   "cell_type": "code",
   "execution_count": 223,
   "metadata": {},
   "outputs": [
    {
     "data": {
      "image/png": "[encoded data removed]",
      "text/plain": [
       "<Figure size 1152x576 with 1 Axes>"
      ]
     },
     "metadata": {},
     "output_type": "display_data"
    }
   ],
   "source": [
    "fig, ax = plt.subplots(figsize=(16,8))\n",
    "ax.scatter(df['X6'], df['X1'])\n",
    "ax.set_xlabel('Investor Funded Portion')\n",
    "ax.set_ylabel('Interest Rate of the loan')\n",
    "plt.show()"
   ]
  },
  {
   "cell_type": "code",
   "execution_count": 225,
   "metadata": {},
   "outputs": [
    {
     "name": "stderr",
     "output_type": "stream",
     "text": [
      "//anaconda3/lib/python3.7/site-packages/seaborn/categorical.py:3666: UserWarning: The `factorplot` function has been renamed to `catplot`. The original name will be removed in a future release. Please update your code. Note that the default `kind` in `factorplot` (`'point'`) has changed `'strip'` in `catplot`.\n",
      "  warnings.warn(msg)\n"
     ]
    },
    {
     "data": {
      "image/png": "[encoded data removed]",
      "text/plain": [
       "<Figure size 432x288 with 2 Axes>"
      ]
     },
     "metadata": {},
     "output_type": "display_data"
    },
    {
     "data": {
      "image/png": "[encoded data removed]",
      "text/plain": [
       "<Figure size 360x360 with 1 Axes>"
      ]
     },
     "metadata": {},
     "output_type": "display_data"
    }
   ],
   "source": [
    "fig = plt.figure()\n",
    "\n",
    "ax1 = fig.add_subplot(2,1,1) \n",
    "sns.countplot(data = df, x = 'X24', ax = ax1)\n",
    "\n",
    "ax2 = fig.add_subplot(2,1,2) \n",
    "sns.factorplot(data = df, x='X24', y='X1' , ax = ax2)\n",
    "plt.show()"
   ]
  },
  {
   "cell_type": "code",
   "execution_count": 233,
   "metadata": {},
   "outputs": [
    {
     "data": {
      "text/plain": [
       "<seaborn.axisgrid.FacetGrid at 0x1b152c41d0>"
      ]
     },
     "execution_count": 233,
     "metadata": {},
     "output_type": "execute_result"
    },
    {
     "data": {
      "image/png": "[encoded data removed]",
      "text/plain": [
       "<Figure size 360x360 with 1 Axes>"
      ]
     },
     "metadata": {
      "needs_background": "light"
     },
     "output_type": "display_data"
    }
   ],
   "source": [
    "sns.catplot(x=\"X24\", y=\"X1\",\n",
    "            kind=\"violin\", data=df, palette = 'magma')"
   ]
  },
  {
   "cell_type": "markdown",
   "metadata": {},
   "source": [
    "## Creating few dummy features"
   ]
  },
  {
   "cell_type": "code",
   "execution_count": 356,
   "metadata": {},
   "outputs": [
    {
     "name": "stderr",
     "output_type": "stream",
     "text": [
      "//anaconda3/lib/python3.7/site-packages/pandas/core/generic.py:5096: SettingWithCopyWarning: \n",
      "A value is trying to be set on a copy of a slice from a DataFrame.\n",
      "Try using .loc[row_indexer,col_indexer] = value instead\n",
      "\n",
      "See the caveats in the documentation: http://pandas.pydata.org/pandas-docs/stable/indexing.html#indexing-view-versus-copy\n",
      "  self[name] = value\n"
     ]
    }
   ],
   "source": [
    "df.X22 = df.X22.astype(float)"
   ]
  },
  {
   "cell_type": "code",
   "execution_count": 357,
   "metadata": {},
   "outputs": [
    {
     "name": "stderr",
     "output_type": "stream",
     "text": [
      "//anaconda3/lib/python3.7/site-packages/ipykernel_launcher.py:8: SettingWithCopyWarning: \n",
      "A value is trying to be set on a copy of a slice from a DataFrame.\n",
      "Try using .loc[row_indexer,col_indexer] = value instead\n",
      "\n",
      "See the caveats in the documentation: http://pandas.pydata.org/pandas-docs/stable/indexing.html#indexing-view-versus-copy\n",
      "  \n"
     ]
    },
    {
     "data": {
      "text/plain": [
       "0      2968\n",
       "1    284270\n",
       "Name: is_delinq, dtype: int64"
      ]
     },
     "execution_count": 357,
     "metadata": {},
     "output_type": "execute_result"
    }
   ],
   "source": [
    "def delinquency_days(X22):\n",
    "    if X22 <= 3:\n",
    "        return 1\n",
    "    \n",
    "    elif X22 > 3:\n",
    "        return 0\n",
    "\n",
    "df['is_delinq'] = df['X22'].apply(delinquency_days)\n",
    "\n",
    "df['is_delinq'].value_counts(sort=False)"
   ]
  },
  {
   "cell_type": "code",
   "execution_count": 358,
   "metadata": {},
   "outputs": [],
   "source": [
    "df.X24 = df.X24.astype(float)"
   ]
  },
  {
   "cell_type": "code",
   "execution_count": 359,
   "metadata": {},
   "outputs": [
    {
     "name": "stderr",
     "output_type": "stream",
     "text": [
      "//anaconda3/lib/python3.7/site-packages/ipykernel_launcher.py:8: SettingWithCopyWarning: \n",
      "A value is trying to be set on a copy of a slice from a DataFrame.\n",
      "Try using .loc[row_indexer,col_indexer] = value instead\n",
      "\n",
      "See the caveats in the documentation: http://pandas.pydata.org/pandas-docs/stable/indexing.html#indexing-view-versus-copy\n",
      "  \n"
     ]
    },
    {
     "data": {
      "text/plain": [
       "0      6583\n",
       "1    280655\n",
       "Name: inquiry, dtype: int64"
      ]
     },
     "execution_count": 359,
     "metadata": {},
     "output_type": "execute_result"
    }
   ],
   "source": [
    "def inquiry(X24):\n",
    "    if X24 <= 3:\n",
    "        return 1\n",
    "    \n",
    "    elif X24 > 3:\n",
    "        return 0\n",
    "\n",
    "df['inquiry'] = df['X24'].apply(inquiry)\n",
    "\n",
    "df['inquiry'].value_counts(sort=False)"
   ]
  },
  {
   "cell_type": "code",
   "execution_count": 369,
   "metadata": {},
   "outputs": [
    {
     "data": {
      "text/plain": [
       "0     64277\n",
       "1    195807\n",
       "Name: is_grade, dtype: int64"
      ]
     },
     "execution_count": 369,
     "metadata": {},
     "output_type": "execute_result"
    }
   ],
   "source": [
    "def loan_grade(X8):\n",
    "    if X8 == 'A' or X8 == 'B' or X8 == 'C' or X8 == 'D':\n",
    "        return 1\n",
    "    \n",
    "    else:\n",
    "        return 0\n",
    "\n",
    "df['is_grade'] = df['X8'].apply(loan_grade)\n",
    "\n",
    "df['is_grade'].value_counts(sort=False)"
   ]
  },
  {
   "cell_type": "markdown",
   "metadata": {},
   "source": [
    "## Plotting the relationship between continuous variables selected for the model"
   ]
  },
  {
   "cell_type": "code",
   "execution_count": 360,
   "metadata": {},
   "outputs": [],
   "source": [
    "def plot_pairgrid(df):\n",
    "    '''\n",
    "    Uses seaborn.PairGrid to visualize the attributes related to the six physical characteristics.\n",
    "    Diagonal plots are histograms. The off-diagonal plots are scatter plots.\n",
    "    \n",
    "    Parameters\n",
    "    ----------\n",
    "    df: A pandas.DataFrame. Comes from importing delta.csv.\n",
    "    \n",
    "    Returns\n",
    "    -------\n",
    "    A seaborn.axisgrid.PairGrid instance.\n",
    "    '''\n",
    "    \n",
    "    # YOUR CODE HERE\n",
    "    width  = 20\n",
    "    height = 15\n",
    "    wspace = 0.5\n",
    "    hspace = 0.2\n",
    "    \n",
    "   \n",
    "    #plt.style.use('seaborn-whitegrid')\n",
    "    sns.set(style= \"white\")\n",
    "    fig = plt.figure(figsize=(width,height))\n",
    "    fig.subplots_adjust(left=None, bottom=None, right=None, top=None, wspace=wspace, hspace=hspace)\n",
    "        \n",
    "    ax = sns.PairGrid(df)\n",
    "    ax.map_diag(plt.hist)\n",
    "    ax.map_offdiag(plt.scatter) \n",
    "    plt.show()\n",
    "        #plt.show()\n",
    "    \n",
    "    \n",
    "    return ax\n"
   ]
  },
  {
   "cell_type": "code",
   "execution_count": 361,
   "metadata": {},
   "outputs": [
    {
     "data": {
      "text/plain": [
       "<Figure size 1440x1080 with 0 Axes>"
      ]
     },
     "metadata": {},
     "output_type": "display_data"
    },
    {
     "data": {
      "image/png": "[encoded data removed]",
      "text/plain": [
       "<Figure size 900x900 with 30 Axes>"
      ]
     },
     "metadata": {},
     "output_type": "display_data"
    }
   ],
   "source": [
    "# Plotting pair grid plot\n",
    "pg = plot_pairgrid(ds_float) #your answer should look like this"
   ]
  },
  {
   "cell_type": "code",
   "execution_count": 285,
   "metadata": {},
   "outputs": [
    {
     "data": {
      "text/plain": [
       "Text(25.0, 0.5, 'Interest Rate')"
      ]
     },
     "execution_count": 285,
     "metadata": {},
     "output_type": "execute_result"
    },
    {
     "data": {
      "image/png": "[encoded data removed]",
      "text/plain": [
       "<Figure size 1008x432 with 3 Axes>"
      ]
     },
     "metadata": {},
     "output_type": "display_data"
    }
   ],
   "source": [
    "joint = sns.jointplot('X21', 'X1', data = df)\n",
    "joint.fig.set_size_inches(14, 6)\n",
    "joint.annotate(stats.spearmanr)\n",
    "joint.ax_joint.set_xlabel('Index', size = 14)\n",
    "joint.ax_joint.set_ylabel('Interest Rate', size = 14)\n",
    "#plt.savefig('plots/Jointplot.png')"
   ]
  },
  {
   "cell_type": "code",
   "execution_count": 362,
   "metadata": {},
   "outputs": [
    {
     "name": "stderr",
     "output_type": "stream",
     "text": [
      "//anaconda3/lib/python3.7/site-packages/seaborn/axisgrid.py:1847: UserWarning: JointGrid annotation is deprecated and will be removed in a future release.\n",
      "  warnings.warn(UserWarning(msg))\n"
     ]
    },
    {
     "data": {
      "text/plain": [
       "Text(25.0, 0.5, 'Interest Rate')"
      ]
     },
     "execution_count": 362,
     "metadata": {},
     "output_type": "execute_result"
    },
    {
     "data": {
      "image/png": "[encoded data removed]",
      "text/plain": [
       "<Figure size 1008x432 with 3 Axes>"
      ]
     },
     "metadata": {},
     "output_type": "display_data"
    }
   ],
   "source": [
    "joint = sns.jointplot('X13', 'X1', data = df)\n",
    "joint.fig.set_size_inches(14, 6)\n",
    "joint.annotate(stats.spearmanr)\n",
    "joint.ax_joint.set_xlabel('Loan Amount', size = 14)\n",
    "joint.ax_joint.set_ylabel('Interest Rate', size = 14)\n",
    "#plt.savefig('plots/Jointplot.png')"
   ]
  },
  {
   "cell_type": "code",
   "execution_count": 363,
   "metadata": {},
   "outputs": [],
   "source": [
    "q1, q3= np.percentile(df.X13,[25,90])"
   ]
  },
  {
   "cell_type": "code",
   "execution_count": 364,
   "metadata": {},
   "outputs": [
    {
     "data": {
      "text/plain": [
       "120000.0"
      ]
     },
     "execution_count": 364,
     "metadata": {},
     "output_type": "execute_result"
    }
   ],
   "source": [
    "q3"
   ]
  },
  {
   "cell_type": "code",
   "execution_count": 365,
   "metadata": {},
   "outputs": [
    {
     "name": "stderr",
     "output_type": "stream",
     "text": [
      "//anaconda3/lib/python3.7/site-packages/pandas/core/frame.py:3940: SettingWithCopyWarning: \n",
      "A value is trying to be set on a copy of a slice from a DataFrame\n",
      "\n",
      "See the caveats in the documentation: http://pandas.pydata.org/pandas-docs/stable/indexing.html#indexing-view-versus-copy\n",
      "  errors=errors)\n"
     ]
    }
   ],
   "source": [
    "indexNames = df[ df['X13'] > 120000].index\n",
    "df.drop(indexNames , inplace=True)"
   ]
  },
  {
   "cell_type": "code",
   "execution_count": 263,
   "metadata": {},
   "outputs": [
    {
     "data": {
      "text/plain": [
       "Text(25.0, 0.5, 'Interest Rate')"
      ]
     },
     "execution_count": 263,
     "metadata": {},
     "output_type": "execute_result"
    },
    {
     "data": {
      "image/png": "[encoded data removed]",
      "text/plain": [
       "<Figure size 1008x432 with 3 Axes>"
      ]
     },
     "metadata": {},
     "output_type": "display_data"
    }
   ],
   "source": [
    "joint = sns.jointplot('X13', 'X1', data = df)\n",
    "joint.fig.set_size_inches(14, 6)\n",
    "joint.annotate(stats.spearmanr)\n",
    "joint.ax_joint.set_xlabel('Loan Amount', size = 14)\n",
    "joint.ax_joint.set_ylabel('Interest Rate', size = 14)\n",
    "#plt.savefig('plots/Jointplot.png')"
   ]
  },
  {
   "cell_type": "code",
   "execution_count": 370,
   "metadata": {},
   "outputs": [
    {
     "data": {
      "text/plain": [
       "Index(['X1', 'X5', 'X6', 'X7', 'X8', 'X9', 'X13', 'X21', 'X22', 'X24',\n",
       "       'is_delinq', 'inquiry', 'X7_ 36 ', 'X7_ 60 ', 'is_grade'],\n",
       "      dtype='object')"
      ]
     },
     "execution_count": 370,
     "metadata": {},
     "output_type": "execute_result"
    }
   ],
   "source": [
    "df.columns"
   ]
  },
  {
   "cell_type": "code",
   "execution_count": 367,
   "metadata": {},
   "outputs": [
    {
     "name": "stdout",
     "output_type": "stream",
     "text": [
      "<class 'pandas.core.frame.DataFrame'>\n",
      "Int64Index: 260084 entries, 0 to 399999\n",
      "Data columns (total 12 columns):\n",
      "X1           260084 non-null float64\n",
      "X5           260084 non-null float64\n",
      "X6           260084 non-null float64\n",
      "X7           260084 non-null object\n",
      "X8           260084 non-null object\n",
      "X9           260084 non-null object\n",
      "X13          260084 non-null float64\n",
      "X21          260084 non-null float64\n",
      "X22          260084 non-null float64\n",
      "X24          260084 non-null float64\n",
      "is_delinq    260084 non-null int64\n",
      "inquiry      260084 non-null int64\n",
      "dtypes: float64(7), int64(2), object(3)\n",
      "memory usage: 25.8+ MB\n"
     ]
    }
   ],
   "source": [
    "df.info()"
   ]
  },
  {
   "cell_type": "code",
   "execution_count": 368,
   "metadata": {},
   "outputs": [],
   "source": [
    "dummy = pd.get_dummies(df['X7'], prefix='X7')\n",
    "df = df.merge(dummy, left_index = True, right_index = True)"
   ]
  },
  {
   "cell_type": "code",
   "execution_count": 418,
   "metadata": {},
   "outputs": [],
   "source": [
    "df.drop(['X21log'],axis =1, inplace = True)"
   ]
  },
  {
   "cell_type": "markdown",
   "metadata": {},
   "source": [
    "## TRAINING THE DATA"
   ]
  },
  {
   "cell_type": "code",
   "execution_count": 415,
   "metadata": {},
   "outputs": [],
   "source": [
    "#split dataset in features and target variable\n",
    "feature_cols = ['X5', 'X6', 'X7','X13', 'X21','is_delinq', 'inquiry', 'X7_ 36 ', 'X7_ 60 ', 'is_grade']\n",
    "X = df[feature_cols] # Features\n",
    "y = df.X1 # Target variable"
   ]
  },
  {
   "cell_type": "code",
   "execution_count": 416,
   "metadata": {},
   "outputs": [],
   "source": [
    "#from sklearn.cross_validation import train_test_split\n",
    "X_train,X_test,y_train,y_test=train_test_split(X,y,test_size=0.25,random_state=0)"
   ]
  },
  {
   "cell_type": "code",
   "execution_count": 417,
   "metadata": {},
   "outputs": [
    {
     "ename": "ValueError",
     "evalue": "Input contains NaN, infinity or a value too large for dtype('float32').",
     "output_type": "error",
     "traceback": [
      "\u001b[0;31m---------------------------------------------------------------------------\u001b[0m",
      "\u001b[0;31mValueError\u001b[0m                                Traceback (most recent call last)",
      "\u001b[0;32m<ipython-input-417-748600aad520>\u001b[0m in \u001b[0;36m<module>\u001b[0;34m\u001b[0m\n\u001b[1;32m      4\u001b[0m \u001b[0mrf\u001b[0m \u001b[0;34m=\u001b[0m \u001b[0mRandomForestRegressor\u001b[0m\u001b[0;34m(\u001b[0m\u001b[0mn_estimators\u001b[0m \u001b[0;34m=\u001b[0m \u001b[0;36m1000\u001b[0m\u001b[0;34m,\u001b[0m \u001b[0mrandom_state\u001b[0m \u001b[0;34m=\u001b[0m \u001b[0;36m42\u001b[0m\u001b[0;34m)\u001b[0m\u001b[0;34m\u001b[0m\u001b[0;34m\u001b[0m\u001b[0m\n\u001b[1;32m      5\u001b[0m \u001b[0;31m# Train the model on training data\u001b[0m\u001b[0;34m\u001b[0m\u001b[0;34m\u001b[0m\u001b[0;34m\u001b[0m\u001b[0m\n\u001b[0;32m----> 6\u001b[0;31m \u001b[0mrf\u001b[0m\u001b[0;34m.\u001b[0m\u001b[0mfit\u001b[0m\u001b[0;34m(\u001b[0m\u001b[0mX_train\u001b[0m\u001b[0;34m,\u001b[0m \u001b[0my_train\u001b[0m\u001b[0;34m)\u001b[0m\u001b[0;34m;\u001b[0m\u001b[0;34m\u001b[0m\u001b[0;34m\u001b[0m\u001b[0m\n\u001b[0m",
      "\u001b[0;32m//anaconda3/lib/python3.7/site-packages/sklearn/ensemble/forest.py\u001b[0m in \u001b[0;36mfit\u001b[0;34m(self, X, y, sample_weight)\u001b[0m\n\u001b[1;32m    247\u001b[0m \u001b[0;34m\u001b[0m\u001b[0m\n\u001b[1;32m    248\u001b[0m         \u001b[0;31m# Validate or convert input data\u001b[0m\u001b[0;34m\u001b[0m\u001b[0;34m\u001b[0m\u001b[0;34m\u001b[0m\u001b[0m\n\u001b[0;32m--> 249\u001b[0;31m         \u001b[0mX\u001b[0m \u001b[0;34m=\u001b[0m \u001b[0mcheck_array\u001b[0m\u001b[0;34m(\u001b[0m\u001b[0mX\u001b[0m\u001b[0;34m,\u001b[0m \u001b[0maccept_sparse\u001b[0m\u001b[0;34m=\u001b[0m\u001b[0;34m\"csc\"\u001b[0m\u001b[0;34m,\u001b[0m \u001b[0mdtype\u001b[0m\u001b[0;34m=\u001b[0m\u001b[0mDTYPE\u001b[0m\u001b[0;34m)\u001b[0m\u001b[0;34m\u001b[0m\u001b[0;34m\u001b[0m\u001b[0m\n\u001b[0m\u001b[1;32m    250\u001b[0m         \u001b[0my\u001b[0m \u001b[0;34m=\u001b[0m \u001b[0mcheck_array\u001b[0m\u001b[0;34m(\u001b[0m\u001b[0my\u001b[0m\u001b[0;34m,\u001b[0m \u001b[0maccept_sparse\u001b[0m\u001b[0;34m=\u001b[0m\u001b[0;34m'csc'\u001b[0m\u001b[0;34m,\u001b[0m \u001b[0mensure_2d\u001b[0m\u001b[0;34m=\u001b[0m\u001b[0;32mFalse\u001b[0m\u001b[0;34m,\u001b[0m \u001b[0mdtype\u001b[0m\u001b[0;34m=\u001b[0m\u001b[0;32mNone\u001b[0m\u001b[0;34m)\u001b[0m\u001b[0;34m\u001b[0m\u001b[0;34m\u001b[0m\u001b[0m\n\u001b[1;32m    251\u001b[0m         \u001b[0;32mif\u001b[0m \u001b[0msample_weight\u001b[0m \u001b[0;32mis\u001b[0m \u001b[0;32mnot\u001b[0m \u001b[0;32mNone\u001b[0m\u001b[0;34m:\u001b[0m\u001b[0;34m\u001b[0m\u001b[0;34m\u001b[0m\u001b[0m\n",
      "\u001b[0;32m//anaconda3/lib/python3.7/site-packages/sklearn/utils/validation.py\u001b[0m in \u001b[0;36mcheck_array\u001b[0;34m(array, accept_sparse, accept_large_sparse, dtype, order, copy, force_all_finite, ensure_2d, allow_nd, ensure_min_samples, ensure_min_features, warn_on_dtype, estimator)\u001b[0m\n\u001b[1;32m    540\u001b[0m         \u001b[0;32mif\u001b[0m \u001b[0mforce_all_finite\u001b[0m\u001b[0;34m:\u001b[0m\u001b[0;34m\u001b[0m\u001b[0;34m\u001b[0m\u001b[0m\n\u001b[1;32m    541\u001b[0m             _assert_all_finite(array,\n\u001b[0;32m--> 542\u001b[0;31m                                allow_nan=force_all_finite == 'allow-nan')\n\u001b[0m\u001b[1;32m    543\u001b[0m \u001b[0;34m\u001b[0m\u001b[0m\n\u001b[1;32m    544\u001b[0m     \u001b[0;32mif\u001b[0m \u001b[0mensure_min_samples\u001b[0m \u001b[0;34m>\u001b[0m \u001b[0;36m0\u001b[0m\u001b[0;34m:\u001b[0m\u001b[0;34m\u001b[0m\u001b[0;34m\u001b[0m\u001b[0m\n",
      "\u001b[0;32m//anaconda3/lib/python3.7/site-packages/sklearn/utils/validation.py\u001b[0m in \u001b[0;36m_assert_all_finite\u001b[0;34m(X, allow_nan)\u001b[0m\n\u001b[1;32m     54\u001b[0m                 not allow_nan and not np.isfinite(X).all()):\n\u001b[1;32m     55\u001b[0m             \u001b[0mtype_err\u001b[0m \u001b[0;34m=\u001b[0m \u001b[0;34m'infinity'\u001b[0m \u001b[0;32mif\u001b[0m \u001b[0mallow_nan\u001b[0m \u001b[0;32melse\u001b[0m \u001b[0;34m'NaN, infinity'\u001b[0m\u001b[0;34m\u001b[0m\u001b[0;34m\u001b[0m\u001b[0m\n\u001b[0;32m---> 56\u001b[0;31m             \u001b[0;32mraise\u001b[0m \u001b[0mValueError\u001b[0m\u001b[0;34m(\u001b[0m\u001b[0mmsg_err\u001b[0m\u001b[0;34m.\u001b[0m\u001b[0mformat\u001b[0m\u001b[0;34m(\u001b[0m\u001b[0mtype_err\u001b[0m\u001b[0;34m,\u001b[0m \u001b[0mX\u001b[0m\u001b[0;34m.\u001b[0m\u001b[0mdtype\u001b[0m\u001b[0;34m)\u001b[0m\u001b[0;34m)\u001b[0m\u001b[0;34m\u001b[0m\u001b[0;34m\u001b[0m\u001b[0m\n\u001b[0m\u001b[1;32m     57\u001b[0m     \u001b[0;31m# for object dtype data, we only check for NaNs (GH-13254)\u001b[0m\u001b[0;34m\u001b[0m\u001b[0;34m\u001b[0m\u001b[0;34m\u001b[0m\u001b[0m\n\u001b[1;32m     58\u001b[0m     \u001b[0;32melif\u001b[0m \u001b[0mX\u001b[0m\u001b[0;34m.\u001b[0m\u001b[0mdtype\u001b[0m \u001b[0;34m==\u001b[0m \u001b[0mnp\u001b[0m\u001b[0;34m.\u001b[0m\u001b[0mdtype\u001b[0m\u001b[0;34m(\u001b[0m\u001b[0;34m'object'\u001b[0m\u001b[0;34m)\u001b[0m \u001b[0;32mand\u001b[0m \u001b[0;32mnot\u001b[0m \u001b[0mallow_nan\u001b[0m\u001b[0;34m:\u001b[0m\u001b[0;34m\u001b[0m\u001b[0;34m\u001b[0m\u001b[0m\n",
      "\u001b[0;31mValueError\u001b[0m: Input contains NaN, infinity or a value too large for dtype('float32')."
     ]
    }
   ],
   "source": [
    "# Import the model we are using\n",
    "from sklearn.ensemble import RandomForestRegressor\n",
    "# Instantiate model with 1000 decision trees\n",
    "rf = RandomForestRegressor(n_estimators = 1000, random_state = 42)\n",
    "# Train the model on training data\n",
    "rf.fit(X_train, y_train);"
   ]
  },
  {
   "cell_type": "code",
   "execution_count": 375,
   "metadata": {},
   "outputs": [
    {
     "name": "stdout",
     "output_type": "stream",
     "text": [
      "Test set RMSE of dt: 4.27\n"
     ]
    }
   ],
   "source": [
    "from sklearn.metrics import mean_squared_error as MSE\n",
    "\n",
    "# Compute y_pred\n",
    "y_pred = rf.predict(X_test)\n",
    "\n",
    "# Compute mse_dt\n",
    "mse_dt = MSE(y_test, predictions)\n",
    "\n",
    "# Compute rmse_dt\n",
    "rmse_dt = mse_dt**(1/2)\n",
    "\n",
    "# Print rmse_dt\n",
    "print(\"Test set RMSE of dt: {:.2f}\".format(rmse_dt))"
   ]
  },
  {
   "cell_type": "code",
   "execution_count": 376,
   "metadata": {},
   "outputs": [
    {
     "data": {
      "image/png": "[encoded data removed]",
      "text/plain": [
       "<Figure size 432x288 with 1 Axes>"
      ]
     },
     "metadata": {},
     "output_type": "display_data"
    }
   ],
   "source": [
    "import pandas as pd\n",
    "import matplotlib.pyplot as plt\n",
    "# Create a pd.Series of features importances\n",
    "importances_rf = pd.Series(rf.feature_importances_,\n",
    "index = X.columns)\n",
    "# Sort importances_rf\n",
    "sorted_importances_rf = importances_rf.sort_values()\n",
    "# Make a horizontal bar plot\n",
    "sorted_importances_rf.plot(kind='barh', color='blue')\n",
    "plt.show()"
   ]
  },
  {
   "cell_type": "code",
   "execution_count": 411,
   "metadata": {},
   "outputs": [
    {
     "name": "stdout",
     "output_type": "stream",
     "text": [
      "Test set RMSE of gb: 3.446\n"
     ]
    }
   ],
   "source": [
    "# Import GradientBoostingRegressor\n",
    "from sklearn.ensemble import GradientBoostingRegressor\n",
    "\n",
    "# Instantiate gb\n",
    "gb = GradientBoostingRegressor(max_depth=4,\n",
    "                               n_estimators=200,\n",
    "                               random_state=2)\n",
    "\n",
    "# Fit gb to the training set\n",
    "gb.fit(X_train, y_train)\n",
    "\n",
    "# Predict test set labels\n",
    "y_pred_Gboost = gb.predict(X_test)\n",
    "\n",
    "# Import mean_squared_error as MSE\n",
    "from sklearn.metrics import mean_squared_error as MSE\n",
    "\n",
    "# Compute MSE\n",
    "mse_test = MSE(y_test, y_pred_Gboost)\n",
    "\n",
    "# Compute RMSE\n",
    "rmse_test = mse_test**(1/2)\n",
    "\n",
    "# Print RMSE\n",
    "print('Test set RMSE of gb: {:.3f}'.format(rmse_test))"
   ]
  },
  {
   "cell_type": "markdown",
   "metadata": {},
   "source": [
    "## Test Dataset Transformation"
   ]
  },
  {
   "cell_type": "code",
   "execution_count": 389,
   "metadata": {},
   "outputs": [],
   "source": [
    "df_test = pd.read_csv('Holdout for Testing.csv')"
   ]
  },
  {
   "cell_type": "code",
   "execution_count": 378,
   "metadata": {},
   "outputs": [
    {
     "data": {
      "text/html": [
       "<div>\n",
       "<style scoped>\n",
       "    .dataframe tbody tr th:only-of-type {\n",
       "        vertical-align: middle;\n",
       "    }\n",
       "\n",
       "    .dataframe tbody tr th {\n",
       "        vertical-align: top;\n",
       "    }\n",
       "\n",
       "    .dataframe thead th {\n",
       "        text-align: right;\n",
       "    }\n",
       "</style>\n",
       "<table border=\"1\" class=\"dataframe\">\n",
       "  <thead>\n",
       "    <tr style=\"text-align: right;\">\n",
       "      <th></th>\n",
       "      <th>X1</th>\n",
       "      <th>X2</th>\n",
       "      <th>X3</th>\n",
       "      <th>X13</th>\n",
       "      <th>X21</th>\n",
       "      <th>X22</th>\n",
       "      <th>X24</th>\n",
       "      <th>X25</th>\n",
       "      <th>X26</th>\n",
       "      <th>X27</th>\n",
       "      <th>X28</th>\n",
       "      <th>X29</th>\n",
       "      <th>X31</th>\n",
       "    </tr>\n",
       "  </thead>\n",
       "  <tbody>\n",
       "    <tr>\n",
       "      <th>count</th>\n",
       "      <td>0.0</td>\n",
       "      <td>8.000000e+04</td>\n",
       "      <td>8.000000e+04</td>\n",
       "      <td>8.000000e+04</td>\n",
       "      <td>80000.000000</td>\n",
       "      <td>80000.000000</td>\n",
       "      <td>80000.000000</td>\n",
       "      <td>41296.000000</td>\n",
       "      <td>13839.000000</td>\n",
       "      <td>80000.000000</td>\n",
       "      <td>80000.000000</td>\n",
       "      <td>8.000000e+04</td>\n",
       "      <td>80000.000000</td>\n",
       "    </tr>\n",
       "    <tr>\n",
       "      <th>mean</th>\n",
       "      <td>NaN</td>\n",
       "      <td>4.057114e+07</td>\n",
       "      <td>4.343343e+07</td>\n",
       "      <td>7.518041e+04</td>\n",
       "      <td>19.134857</td>\n",
       "      <td>0.340863</td>\n",
       "      <td>0.580500</td>\n",
       "      <td>33.740847</td>\n",
       "      <td>68.031939</td>\n",
       "      <td>11.853225</td>\n",
       "      <td>0.227650</td>\n",
       "      <td>1.741679e+04</td>\n",
       "      <td>25.717212</td>\n",
       "    </tr>\n",
       "    <tr>\n",
       "      <th>std</th>\n",
       "      <td>NaN</td>\n",
       "      <td>2.732822e+06</td>\n",
       "      <td>2.934130e+06</td>\n",
       "      <td>6.152649e+04</td>\n",
       "      <td>8.604867</td>\n",
       "      <td>0.916671</td>\n",
       "      <td>0.875345</td>\n",
       "      <td>21.819722</td>\n",
       "      <td>27.357805</td>\n",
       "      <td>5.530731</td>\n",
       "      <td>0.621233</td>\n",
       "      <td>2.192296e+04</td>\n",
       "      <td>12.114023</td>\n",
       "    </tr>\n",
       "    <tr>\n",
       "      <th>min</th>\n",
       "      <td>NaN</td>\n",
       "      <td>6.612800e+04</td>\n",
       "      <td>2.406410e+05</td>\n",
       "      <td>4.524000e+03</td>\n",
       "      <td>0.000000</td>\n",
       "      <td>0.000000</td>\n",
       "      <td>0.000000</td>\n",
       "      <td>0.000000</td>\n",
       "      <td>1.000000</td>\n",
       "      <td>1.000000</td>\n",
       "      <td>0.000000</td>\n",
       "      <td>0.000000e+00</td>\n",
       "      <td>4.000000</td>\n",
       "    </tr>\n",
       "    <tr>\n",
       "      <th>25%</th>\n",
       "      <td>NaN</td>\n",
       "      <td>3.944927e+07</td>\n",
       "      <td>4.224436e+07</td>\n",
       "      <td>4.500000e+04</td>\n",
       "      <td>12.680000</td>\n",
       "      <td>0.000000</td>\n",
       "      <td>0.000000</td>\n",
       "      <td>15.000000</td>\n",
       "      <td>50.000000</td>\n",
       "      <td>8.000000</td>\n",
       "      <td>0.000000</td>\n",
       "      <td>6.674000e+03</td>\n",
       "      <td>17.000000</td>\n",
       "    </tr>\n",
       "    <tr>\n",
       "      <th>50%</th>\n",
       "      <td>NaN</td>\n",
       "      <td>4.054166e+07</td>\n",
       "      <td>4.340628e+07</td>\n",
       "      <td>6.485700e+04</td>\n",
       "      <td>18.560000</td>\n",
       "      <td>0.000000</td>\n",
       "      <td>0.000000</td>\n",
       "      <td>30.000000</td>\n",
       "      <td>67.000000</td>\n",
       "      <td>11.000000</td>\n",
       "      <td>0.000000</td>\n",
       "      <td>1.227200e+04</td>\n",
       "      <td>24.000000</td>\n",
       "    </tr>\n",
       "    <tr>\n",
       "      <th>75%</th>\n",
       "      <td>NaN</td>\n",
       "      <td>4.205138e+07</td>\n",
       "      <td>4.500805e+07</td>\n",
       "      <td>9.000000e+04</td>\n",
       "      <td>25.270000</td>\n",
       "      <td>0.000000</td>\n",
       "      <td>1.000000</td>\n",
       "      <td>50.000000</td>\n",
       "      <td>85.000000</td>\n",
       "      <td>15.000000</td>\n",
       "      <td>0.000000</td>\n",
       "      <td>2.157750e+04</td>\n",
       "      <td>33.000000</td>\n",
       "    </tr>\n",
       "    <tr>\n",
       "      <th>max</th>\n",
       "      <td>NaN</td>\n",
       "      <td>4.442921e+07</td>\n",
       "      <td>4.747693e+07</td>\n",
       "      <td>8.706582e+06</td>\n",
       "      <td>39.990000</td>\n",
       "      <td>20.000000</td>\n",
       "      <td>8.000000</td>\n",
       "      <td>176.000000</td>\n",
       "      <td>120.000000</td>\n",
       "      <td>79.000000</td>\n",
       "      <td>22.000000</td>\n",
       "      <td>1.043860e+06</td>\n",
       "      <td>162.000000</td>\n",
       "    </tr>\n",
       "  </tbody>\n",
       "</table>\n",
       "</div>"
      ],
      "text/plain": [
       "        X1            X2            X3           X13           X21  \\\n",
       "count  0.0  8.000000e+04  8.000000e+04  8.000000e+04  80000.000000   \n",
       "mean   NaN  4.057114e+07  4.343343e+07  7.518041e+04     19.134857   \n",
       "std    NaN  2.732822e+06  2.934130e+06  6.152649e+04      8.604867   \n",
       "min    NaN  6.612800e+04  2.406410e+05  4.524000e+03      0.000000   \n",
       "25%    NaN  3.944927e+07  4.224436e+07  4.500000e+04     12.680000   \n",
       "50%    NaN  4.054166e+07  4.340628e+07  6.485700e+04     18.560000   \n",
       "75%    NaN  4.205138e+07  4.500805e+07  9.000000e+04     25.270000   \n",
       "max    NaN  4.442921e+07  4.747693e+07  8.706582e+06     39.990000   \n",
       "\n",
       "                X22           X24           X25           X26           X27  \\\n",
       "count  80000.000000  80000.000000  41296.000000  13839.000000  80000.000000   \n",
       "mean       0.340863      0.580500     33.740847     68.031939     11.853225   \n",
       "std        0.916671      0.875345     21.819722     27.357805      5.530731   \n",
       "min        0.000000      0.000000      0.000000      1.000000      1.000000   \n",
       "25%        0.000000      0.000000     15.000000     50.000000      8.000000   \n",
       "50%        0.000000      0.000000     30.000000     67.000000     11.000000   \n",
       "75%        0.000000      1.000000     50.000000     85.000000     15.000000   \n",
       "max       20.000000      8.000000    176.000000    120.000000     79.000000   \n",
       "\n",
       "                X28           X29           X31  \n",
       "count  80000.000000  8.000000e+04  80000.000000  \n",
       "mean       0.227650  1.741679e+04     25.717212  \n",
       "std        0.621233  2.192296e+04     12.114023  \n",
       "min        0.000000  0.000000e+00      4.000000  \n",
       "25%        0.000000  6.674000e+03     17.000000  \n",
       "50%        0.000000  1.227200e+04     24.000000  \n",
       "75%        0.000000  2.157750e+04     33.000000  \n",
       "max       22.000000  1.043860e+06    162.000000  "
      ]
     },
     "execution_count": 378,
     "metadata": {},
     "output_type": "execute_result"
    }
   ],
   "source": [
    "df_test.describe()"
   ]
  },
  {
   "cell_type": "code",
   "execution_count": 390,
   "metadata": {},
   "outputs": [
    {
     "data": {
      "text/html": [
       "<div>\n",
       "<style scoped>\n",
       "    .dataframe tbody tr th:only-of-type {\n",
       "        vertical-align: middle;\n",
       "    }\n",
       "\n",
       "    .dataframe tbody tr th {\n",
       "        vertical-align: top;\n",
       "    }\n",
       "\n",
       "    .dataframe thead th {\n",
       "        text-align: right;\n",
       "    }\n",
       "</style>\n",
       "<table border=\"1\" class=\"dataframe\">\n",
       "  <thead>\n",
       "    <tr style=\"text-align: right;\">\n",
       "      <th></th>\n",
       "      <th>X1</th>\n",
       "      <th>X2</th>\n",
       "      <th>X3</th>\n",
       "      <th>X4</th>\n",
       "      <th>X5</th>\n",
       "      <th>X6</th>\n",
       "      <th>X7</th>\n",
       "      <th>X8</th>\n",
       "      <th>X9</th>\n",
       "      <th>X10</th>\n",
       "      <th>...</th>\n",
       "      <th>X23</th>\n",
       "      <th>X24</th>\n",
       "      <th>X25</th>\n",
       "      <th>X26</th>\n",
       "      <th>X27</th>\n",
       "      <th>X28</th>\n",
       "      <th>X29</th>\n",
       "      <th>X30</th>\n",
       "      <th>X31</th>\n",
       "      <th>X32</th>\n",
       "    </tr>\n",
       "  </thead>\n",
       "  <tbody>\n",
       "    <tr>\n",
       "      <th>0</th>\n",
       "      <td>NaN</td>\n",
       "      <td>44409194</td>\n",
       "      <td>47416907</td>\n",
       "      <td>$6,000</td>\n",
       "      <td>$6,000</td>\n",
       "      <td>$6,000</td>\n",
       "      <td>36 months</td>\n",
       "      <td>C</td>\n",
       "      <td>C5</td>\n",
       "      <td>Electrician</td>\n",
       "      <td>...</td>\n",
       "      <td>2-Nov</td>\n",
       "      <td>1</td>\n",
       "      <td>26.0</td>\n",
       "      <td>NaN</td>\n",
       "      <td>18</td>\n",
       "      <td>0</td>\n",
       "      <td>19861</td>\n",
       "      <td>64.50%</td>\n",
       "      <td>33</td>\n",
       "      <td>f</td>\n",
       "    </tr>\n",
       "    <tr>\n",
       "      <th>1</th>\n",
       "      <td>NaN</td>\n",
       "      <td>44017917</td>\n",
       "      <td>47034722</td>\n",
       "      <td>$24,000</td>\n",
       "      <td>$24,000</td>\n",
       "      <td>$24,000</td>\n",
       "      <td>36 months</td>\n",
       "      <td>A</td>\n",
       "      <td>A1</td>\n",
       "      <td>Executive Assistant</td>\n",
       "      <td>...</td>\n",
       "      <td>Dec-68</td>\n",
       "      <td>1</td>\n",
       "      <td>NaN</td>\n",
       "      <td>NaN</td>\n",
       "      <td>12</td>\n",
       "      <td>0</td>\n",
       "      <td>17001</td>\n",
       "      <td>26.20%</td>\n",
       "      <td>36</td>\n",
       "      <td>w</td>\n",
       "    </tr>\n",
       "    <tr>\n",
       "      <th>2</th>\n",
       "      <td>NaN</td>\n",
       "      <td>44259158</td>\n",
       "      <td>47306871</td>\n",
       "      <td>$35,000</td>\n",
       "      <td>$35,000</td>\n",
       "      <td>$35,000</td>\n",
       "      <td>36 months</td>\n",
       "      <td>C</td>\n",
       "      <td>C2</td>\n",
       "      <td>District Sales Leader</td>\n",
       "      <td>...</td>\n",
       "      <td>Oct-98</td>\n",
       "      <td>0</td>\n",
       "      <td>NaN</td>\n",
       "      <td>NaN</td>\n",
       "      <td>16</td>\n",
       "      <td>0</td>\n",
       "      <td>25797</td>\n",
       "      <td>49.90%</td>\n",
       "      <td>33</td>\n",
       "      <td>w</td>\n",
       "    </tr>\n",
       "    <tr>\n",
       "      <th>3</th>\n",
       "      <td>NaN</td>\n",
       "      <td>44429213</td>\n",
       "      <td>47476932</td>\n",
       "      <td>$10,000</td>\n",
       "      <td>$10,000</td>\n",
       "      <td>$10,000</td>\n",
       "      <td>60 months</td>\n",
       "      <td>D</td>\n",
       "      <td>D1</td>\n",
       "      <td>pharmacy associate</td>\n",
       "      <td>...</td>\n",
       "      <td>Feb-99</td>\n",
       "      <td>1</td>\n",
       "      <td>NaN</td>\n",
       "      <td>114.0</td>\n",
       "      <td>13</td>\n",
       "      <td>1</td>\n",
       "      <td>9586</td>\n",
       "      <td>43.80%</td>\n",
       "      <td>21</td>\n",
       "      <td>w</td>\n",
       "    </tr>\n",
       "    <tr>\n",
       "      <th>4</th>\n",
       "      <td>NaN</td>\n",
       "      <td>44299188</td>\n",
       "      <td>47346901</td>\n",
       "      <td>$24,000</td>\n",
       "      <td>$24,000</td>\n",
       "      <td>$24,000</td>\n",
       "      <td>60 months</td>\n",
       "      <td>B</td>\n",
       "      <td>B1</td>\n",
       "      <td>Medical case manager</td>\n",
       "      <td>...</td>\n",
       "      <td>2-Dec</td>\n",
       "      <td>0</td>\n",
       "      <td>48.0</td>\n",
       "      <td>NaN</td>\n",
       "      <td>27</td>\n",
       "      <td>0</td>\n",
       "      <td>31842</td>\n",
       "      <td>41.30%</td>\n",
       "      <td>43</td>\n",
       "      <td>w</td>\n",
       "    </tr>\n",
       "  </tbody>\n",
       "</table>\n",
       "<p>5 rows × 32 columns</p>\n",
       "</div>"
      ],
      "text/plain": [
       "   X1        X2        X3       X4       X5       X6          X7 X8  X9  \\\n",
       "0 NaN  44409194  47416907   $6,000   $6,000   $6,000   36 months  C  C5   \n",
       "1 NaN  44017917  47034722  $24,000  $24,000  $24,000   36 months  A  A1   \n",
       "2 NaN  44259158  47306871  $35,000  $35,000  $35,000   36 months  C  C2   \n",
       "3 NaN  44429213  47476932  $10,000  $10,000  $10,000   60 months  D  D1   \n",
       "4 NaN  44299188  47346901  $24,000  $24,000  $24,000   60 months  B  B1   \n",
       "\n",
       "                     X10  ...     X23 X24   X25    X26 X27 X28    X29     X30  \\\n",
       "0            Electrician  ...   2-Nov   1  26.0    NaN  18   0  19861  64.50%   \n",
       "1    Executive Assistant  ...  Dec-68   1   NaN    NaN  12   0  17001  26.20%   \n",
       "2  District Sales Leader  ...  Oct-98   0   NaN    NaN  16   0  25797  49.90%   \n",
       "3     pharmacy associate  ...  Feb-99   1   NaN  114.0  13   1   9586  43.80%   \n",
       "4   Medical case manager  ...   2-Dec   0  48.0    NaN  27   0  31842  41.30%   \n",
       "\n",
       "  X31 X32  \n",
       "0  33   f  \n",
       "1  36   w  \n",
       "2  33   w  \n",
       "3  21   w  \n",
       "4  43   w  \n",
       "\n",
       "[5 rows x 32 columns]"
      ]
     },
     "execution_count": 390,
     "metadata": {},
     "output_type": "execute_result"
    }
   ],
   "source": [
    "df_test.head()"
   ]
  },
  {
   "cell_type": "code",
   "execution_count": 391,
   "metadata": {},
   "outputs": [],
   "source": [
    "df_test = df_test.applymap(str)\n",
    "bad_chars = [',','$','%','months']\n",
    "\n",
    "for col in df_test.columns:\n",
    "    for c in bad_chars:\n",
    "        df_test[col] = df_test[col].replace(c,\"\")\n",
    "\n",
    "        \n",
    "for c in bad_chars: \n",
    "    for col in df_test:\n",
    "        df_test[col] = df_test[col].str.replace(c, \"\")\n",
    "        "
   ]
  },
  {
   "cell_type": "code",
   "execution_count": 392,
   "metadata": {},
   "outputs": [
    {
     "name": "stdout",
     "output_type": "stream",
     "text": [
      "<class 'pandas.core.frame.DataFrame'>\n",
      "RangeIndex: 80000 entries, 0 to 79999\n",
      "Data columns (total 32 columns):\n",
      "X1     80000 non-null object\n",
      "X2     80000 non-null object\n",
      "X3     80000 non-null object\n",
      "X4     80000 non-null object\n",
      "X5     80000 non-null object\n",
      "X6     80000 non-null object\n",
      "X7     80000 non-null object\n",
      "X8     80000 non-null object\n",
      "X9     80000 non-null object\n",
      "X10    80000 non-null object\n",
      "X11    80000 non-null object\n",
      "X12    80000 non-null object\n",
      "X13    80000 non-null object\n",
      "X14    80000 non-null object\n",
      "X15    80000 non-null object\n",
      "X16    80000 non-null object\n",
      "X17    80000 non-null object\n",
      "X18    80000 non-null object\n",
      "X19    80000 non-null object\n",
      "X20    80000 non-null object\n",
      "X21    80000 non-null object\n",
      "X22    80000 non-null object\n",
      "X23    80000 non-null object\n",
      "X24    80000 non-null object\n",
      "X25    80000 non-null object\n",
      "X26    80000 non-null object\n",
      "X27    80000 non-null object\n",
      "X28    80000 non-null object\n",
      "X29    80000 non-null object\n",
      "X30    80000 non-null object\n",
      "X31    80000 non-null object\n",
      "X32    80000 non-null object\n",
      "dtypes: object(32)\n",
      "memory usage: 19.5+ MB\n"
     ]
    }
   ],
   "source": [
    "df_test.info()"
   ]
  },
  {
   "cell_type": "code",
   "execution_count": 393,
   "metadata": {},
   "outputs": [],
   "source": [
    "df_test.drop(['X2', 'X3', 'X4','X10', 'X11',\n",
    "       'X12','X14','X15', 'X16', 'X17', 'X18', 'X19','X23','X27', 'X25','X26','X20','X28', 'X29', 'X30', 'X31',\n",
    "       'X32'],axis =1, inplace = True)"
   ]
  },
  {
   "cell_type": "code",
   "execution_count": 394,
   "metadata": {},
   "outputs": [
    {
     "name": "stdout",
     "output_type": "stream",
     "text": [
      "<class 'pandas.core.frame.DataFrame'>\n",
      "RangeIndex: 80000 entries, 0 to 79999\n",
      "Data columns (total 10 columns):\n",
      "X1     80000 non-null object\n",
      "X5     80000 non-null object\n",
      "X6     80000 non-null object\n",
      "X7     80000 non-null object\n",
      "X8     80000 non-null object\n",
      "X9     80000 non-null object\n",
      "X13    80000 non-null object\n",
      "X21    80000 non-null object\n",
      "X22    80000 non-null object\n",
      "X24    80000 non-null object\n",
      "dtypes: object(10)\n",
      "memory usage: 6.1+ MB\n"
     ]
    }
   ],
   "source": [
    "df_test.info()"
   ]
  },
  {
   "cell_type": "code",
   "execution_count": 395,
   "metadata": {},
   "outputs": [],
   "source": [
    "\n",
    "# CHANGING THE TYPE OF VARIABLES\n",
    "df_test.X1 = df_test.X1.astype(float)\n",
    "df_test.X5 = df_test.X5.astype(float)\n",
    "df_test.X6 = df_test.X6.astype(float)\n",
    "df_test.X13 = df_test.X13.astype(float)\n",
    "df_test.X21 = df_test.X21.astype(float)\n"
   ]
  },
  {
   "cell_type": "code",
   "execution_count": 402,
   "metadata": {},
   "outputs": [
    {
     "name": "stdout",
     "output_type": "stream",
     "text": [
      "<class 'pandas.core.frame.DataFrame'>\n",
      "RangeIndex: 80000 entries, 0 to 79999\n",
      "Data columns (total 15 columns):\n",
      "X1           0 non-null float64\n",
      "X5           80000 non-null float64\n",
      "X6           80000 non-null float64\n",
      "X7           80000 non-null object\n",
      "X8           80000 non-null object\n",
      "X9           80000 non-null object\n",
      "X13          80000 non-null float64\n",
      "X21          80000 non-null float64\n",
      "X22          80000 non-null float64\n",
      "X24          80000 non-null float64\n",
      "is_delinq    80000 non-null int64\n",
      "inquiry      80000 non-null int64\n",
      "is_grade     80000 non-null int64\n",
      "X7_ 36       80000 non-null uint8\n",
      "X7_ 60       80000 non-null uint8\n",
      "dtypes: float64(7), int64(3), object(3), uint8(2)\n",
      "memory usage: 8.1+ MB\n"
     ]
    }
   ],
   "source": [
    "df_test.info()"
   ]
  },
  {
   "cell_type": "code",
   "execution_count": 397,
   "metadata": {},
   "outputs": [],
   "source": [
    "df_test['X7']=df_test['X7'].fillna('36')"
   ]
  },
  {
   "cell_type": "code",
   "execution_count": 399,
   "metadata": {},
   "outputs": [],
   "source": [
    "df_test['X8']=df_test['X8'].fillna('Not Sure')\n",
    "\n",
    "df_test.X22 = df_test.X22.astype(float)\n",
    "df_test['is_delinq'] = df_test['X22'].apply(delinquency_days)\n",
    "\n",
    "df_test.X24 = df_test.X24.astype(float)\n",
    "df_test['inquiry'] = df_test['X24'].apply(inquiry)\n",
    "\n",
    "df_test['is_grade'] = df_test['X8'].apply(loan_grade)"
   ]
  },
  {
   "cell_type": "code",
   "execution_count": 403,
   "metadata": {},
   "outputs": [],
   "source": [
    "q1_t, q3_t= np.percentile(df_test.X13,[25,90])\n",
    "\n",
    "\n",
    "        "
   ]
  },
  {
   "cell_type": "code",
   "execution_count": 404,
   "metadata": {},
   "outputs": [],
   "source": [
    "indexNamest = df_test[ df_test['X13'] > 120000].index\n",
    "df_test.drop(indexNamest , inplace=True)\n"
   ]
  },
  {
   "cell_type": "code",
   "execution_count": 387,
   "metadata": {},
   "outputs": [],
   "source": [
    "dummy = pd.get_dummies(df_test['X7'], prefix='X7')\n",
    "df_test = df_test.merge(dummy, left_index = True, right_index = True)"
   ]
  },
  {
   "cell_type": "code",
   "execution_count": 405,
   "metadata": {},
   "outputs": [
    {
     "name": "stdout",
     "output_type": "stream",
     "text": [
      "<class 'pandas.core.frame.DataFrame'>\n",
      "Int64Index: 71466 entries, 0 to 79999\n",
      "Data columns (total 15 columns):\n",
      "X1           0 non-null float64\n",
      "X5           71466 non-null float64\n",
      "X6           71466 non-null float64\n",
      "X7           71466 non-null object\n",
      "X8           71466 non-null object\n",
      "X9           71466 non-null object\n",
      "X13          71466 non-null float64\n",
      "X21          71466 non-null float64\n",
      "X22          71466 non-null float64\n",
      "X24          71466 non-null float64\n",
      "is_delinq    71466 non-null int64\n",
      "inquiry      71466 non-null int64\n",
      "is_grade     71466 non-null int64\n",
      "X7_ 36       71466 non-null uint8\n",
      "X7_ 60       71466 non-null uint8\n",
      "dtypes: float64(7), int64(3), object(3), uint8(2)\n",
      "memory usage: 7.8+ MB\n"
     ]
    }
   ],
   "source": [
    "df_test.info()"
   ]
  },
  {
   "cell_type": "code",
   "execution_count": 406,
   "metadata": {},
   "outputs": [
    {
     "data": {
      "text/plain": [
       "Index(['X1', 'X5', 'X6', 'X7', 'X8', 'X9', 'X13', 'X21', 'X22', 'X24',\n",
       "       'is_delinq', 'inquiry', 'is_grade', 'X7_ 36 ', 'X7_ 60 '],\n",
       "      dtype='object')"
      ]
     },
     "execution_count": 406,
     "metadata": {},
     "output_type": "execute_result"
    }
   ],
   "source": [
    "df_test.columns"
   ]
  },
  {
   "cell_type": "code",
   "execution_count": 407,
   "metadata": {},
   "outputs": [],
   "source": [
    "#Drop Variables\n",
    "df_test.drop(['X1','X8','X9','X22', 'X24'], axis = 1, inplace = True)\n"
   ]
  },
  {
   "cell_type": "code",
   "execution_count": 408,
   "metadata": {},
   "outputs": [
    {
     "data": {
      "text/plain": [
       "Index(['X5', 'X6', 'X7', 'X13', 'X21', 'is_delinq', 'inquiry', 'is_grade',\n",
       "       'X7_ 36 ', 'X7_ 60 '],\n",
       "      dtype='object')"
      ]
     },
     "execution_count": 408,
     "metadata": {},
     "output_type": "execute_result"
    }
   ],
   "source": [
    "df_test.columns"
   ]
  },
  {
   "cell_type": "code",
   "execution_count": null,
   "metadata": {},
   "outputs": [],
   "source": [
    "#split dataset in features and target variable\n",
    "feature_cols = ['X5', 'X6', 'X7','X13', 'X21','is_delinq', 'inquiry', 'X7_ 36 ', 'X7_ 60 ', 'is_grade']\n",
    "X = df[feature_cols] # Features\n",
    "y = df.X1 # Target variable"
   ]
  },
  {
   "cell_type": "code",
   "execution_count": 412,
   "metadata": {},
   "outputs": [],
   "source": [
    "#Make Predictions\n",
    "y_pred=gb.predict(df_test)"
   ]
  },
  {
   "cell_type": "code",
   "execution_count": 413,
   "metadata": {},
   "outputs": [],
   "source": [
    "#Save Predictions\n",
    "output = pd.DataFrame({'ID': df_test.index,'InterestRates': y_pred})\n",
    "\n",
    "\n",
    "output.to_csv('LoanPrediction_Results_from_BibindVasu_12180033.csv', index=False)"
   ]
  },
  {
   "cell_type": "code",
   "execution_count": null,
   "metadata": {},
   "outputs": [],
   "source": []
  }
 ],
 "metadata": {
  "kernelspec": {
   "display_name": "Python 3",
   "language": "python",
   "name": "python3"
  },
  "language_info": {
   "codemirror_mode": {
    "name": "ipython",
    "version": 3
   },
   "file_extension": ".py",
   "mimetype": "text/x-python",
   "name": "python",
   "nbconvert_exporter": "python",
   "pygments_lexer": "ipython3",
   "version": "3.7.3"
  }
 },
 "nbformat": 4,
 "nbformat_minor": 2
}
